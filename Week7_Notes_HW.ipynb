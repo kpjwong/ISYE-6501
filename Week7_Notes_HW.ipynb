{
 "cells": [
  {
   "cell_type": "markdown",
   "metadata": {},
   "source": [
    "# Week 7: Regression Trees and Advaced Regression Methods\n",
    "\n",
    "This week we will study:\n",
    "- Tree based models: CART, Random Forests and E<b>x</b>treme <b>G</b>radient <b>B</b>oosting\n",
    "- General procedures concerning imbalanced datasets\n",
    "- Various advanced topic regression methods"
   ]
  },
  {
   "cell_type": "markdown",
   "metadata": {},
   "source": [
    "# Classification and Regression Trees\n",
    "\n",
    "# Overview\n",
    "\n",
    "Based on and contains excerpts from [<i>Classification and Regression Trees,\n",
    "Bagging, and Boosting</i>](http://mason.gmu.edu/~csutton/vt6.pdf) and [<i>Machine Learning and Data Mining</i>](https://nemor.cz/data/mac.pdf).\n",
    "\n",
    "Tree-structured classification and regression are alternative approaches to classification and regression that are not based on assumptions of normality and user-specified model statements. Usually, the resulting tree-structured predictors can be relatively simple functions of the input variables which are easy to use. For domain experts it is usually interesting to review the tree structure because it often conforms to their knowledge of the problem or even provides new insights. Tree-based models are often regarded as a [symbolic learning](https://en.wikipedia.org/wiki/Symbolic_artificial_intelligence) model, in which the problem is approached from a high-level \"symbolic\" representations of problems, logic and search. \n",
    "\n",
    "In the 1980s, statisticians Breiman et al. (1984) developed CART (Classification And Regression Trees), which is a sophisticated program for fitting trees to data. Since then there have been numerous improvements building on the CART framework, e.g. `rpart` in R (Or the Python scikit. Note that rpart allows post pruning but sklearn does not, [leading to overfittings for the latter](https://datascience.stackexchange.com/questions/31424/r-vs-python-decision-tree)). Essentially, building a regression (resp. classification if $y$ is binary) tree can be described as the following greedy process. The process is greedy because the process of looking for the best attribute to split (and how to split) depend only on current information.\n",
    "\n",
    "<img src=\"https://github.com/kpjwong/ISYE-6501/blob/main/images/CART_alg.PNG?raw=true\" width=\"60%\">\n",
    "\n",
    "Or the following pseudocode,\n",
    "\n",
    "```python\n",
    "class node:\n",
    "    def __init__(self, data, attr=None, F=None, children=None):\n",
    "        self.data = data\n",
    "        self.attr = None\n",
    "        self.F = F # could be y_data.mean(), a regression, etc.\n",
    "        self.children = children\n",
    "\n",
    "# each subtree is a list of node\n",
    "def grow_tree(node):\n",
    "    if is_leaf(node):\n",
    "        node.F = find_bestrule(node.data)\n",
    "        return [node]\n",
    "    node.attr = find_bestattr(node.data) # could be more than one\n",
    "    node.children = find_split(node.data, node.attr) # cache-aware\n",
    "    return [node] + [grow_tree(next_node) for next_node in node.children]\n",
    "\n",
    "# grow tree from root\n",
    "root = node(data)\n",
    "grow_tree(root)\n",
    "```\n",
    "\n",
    "Alternatively, the regression tree can be considered a mapping from data vector $X_i \\in \\mathbb{R}^k$ according to the value of its $k$ attributes to a leaf node $q$ (terminal node) where the target variable $y$ is predicted as $\\hat{y}_i = f^q(X_i)$. Usually, $f^q$ is a constant $w^q$, but it could be arbitrary, like a linear regression function $\\beta^q X_i$. The mapping from $X$ to $q$ does not necessarily have a closed form: as we have seen, it could involve sequential partition involving the same dimension $X^k$. \n",
    "\n",
    "The stopping criterion (`is_leaf`) is usually determined when either, the learning set is pure enough (e.g., all examples or most of them are labelled with the same class label), there are not enough learning examples, or there are no good attributes left. Another key factor of a decision tree building algorithm is the choice of the best attribute (`find_bestattr`). For this purpose, impurity measures such as [information gain](https://en.wikipedia.org/wiki/Information_gain_in_decision_trees), information gain ratio, [Gini-index](https://medium.com/@analyttica/gini-coefficient-or-gini-index-in-our-data-science-analytics-platform-d0408fc83772), and [ReliefF](https://en.wikipedia.org/wiki/Relief_(feature_selection)) are frequently used. \n",
    "\n",
    "Since the reliability of class probability estimations in decision tree leaves is highly dependent on the number of learning examples, it is not advisable to shatter the learning set into too small subsets of examples. Many learning algorithms build binary decision trees by binarizing the attributes prior to quality estimation, so `find_split` essentially collapses to a binary rule, such as `node.left`, `node.right` in the conventional binary tree operation. Binary attributes in decision trees allow for using attribute quality measures that otherwise over-estimate multi-valued attributes, such as information gain and\n",
    "Gini-index. Binary decision trees are usually smaller than the ordinary ones, thus providing better generalization and better performance (e.g., classification accuracy). \n",
    "\n",
    "# Algorithm and Model Selection\n",
    "\n",
    "## Metrics for Splitting Criterion\n",
    "\n",
    "There are various algorithms to grow and find the best tree. Notable ones include: the original CART, Iterative Dichotomiser 3 (ID3) and its successor C4.5, Chi-square automatic interaction detection (CHAID), and MARS. We won't be able to go over the details of them, but we will go through important elements of regression tree algorithms in general - metrics and post-pruning. To measure the quality of a split in choosing best attribute and best split for the chosen attribute, several criteria are used. Notice that they correspond to impurity measures, as the notion of classification errors within the training set is not really defined in the tree growing process. The examples included feature discrete predictor attributes, if the attribute is continuous, one can discretize the attribute by [splitting on each observed value](https://www.youtube.com/watch?v=OD8aO4ovIBo), while [started with median values](https://datascience.stackexchange.com/questions/22771/should-we-use-discrete-or-continuous-input-for-decision-trees) is usually a good way to start. \n",
    "\n",
    "## Gini Impurity\n",
    "\n",
    "Gini-impurity is used in the original CART algorithm. It is a measure of how often a randomly chosen element from the set would be incorrectly labeled if it was randomly labeled according to the distribution of labels in the subset. The Gini impurity can be computed by summing the probability $p_i$ of an item with label $i$ being chosen times the probability $1-p_i$ of a mistake in categorizing that item. It reaches its minimum (zero) when all cases in the node fall into a single target category:\n",
    "\n",
    "\\begin{align*}\n",
    "G(p) = \\sum_i^J p_i \\big( \\sum_{k \\neq i} p_k \\big) = \\sum_{i=1}^J p_i(1-p_i) = 1 - \\sum_{i=1}^J p_i^2\n",
    "\\end{align*}\n",
    "\n",
    "### Gini Impurity for a node split\n",
    "\n",
    "Now we apply the concept of Gini impurity to a split according to a data attribute in a classification tree. The Gini impurity for a split according to attribute $m$ resulting in $K$ nodes (for continuous variables, it should be a binary split), each node with distribution of classes $p_k$ over the $J$ distinct classes of the label variable is given by:\n",
    "\n",
    "\\begin{align*}\n",
    "G = \\sum_{k=1}^K \\frac{n_k}{n} G(p_k) = \\sum_{k=1}^K \\frac{n_k}{n} \\big( 1 - \\sum_{i=1}^J p_k(i)^2 \\big)\n",
    "\\end{align*}\n",
    "\n",
    "For example, consider the following split of a classification tree with target lable `Rain` in the `humidity` dimension, resulting in 2 nodes. \n",
    "\n",
    "| Humidity | Rain=1 | Rain=0 | Instances |\n",
    "|:--------:|:---:|:--:|:---------:|\n",
    "| High     | 1   | 1  | 2         |\n",
    "| Normal   | 2   | 1  | 3         |\n",
    "\n",
    "The resulting Gini-impurity resulting from splitting the sample in the `humidity` dimension is given by:\n",
    "\n",
    "\\begin{align*}\n",
    "\\frac{2}{5} \\bigg[ 1-\\Big(\\frac{1}{2}\\Big)^2-\\Big(\\frac{1}{2}\\Big)^2 \\bigg] + \\frac{3}{5} \\bigg[ 1-\\Big(\\frac{2}{3}\\Big)^2-\\Big(\\frac{1}{3}\\Big)^2 \\bigg] = 0.466\n",
    "\\end{align*}\n",
    "\n",
    "At a node, we compute the Gini impurity for splits using each attribute to decide which attribute to split (`find_bestattr`). A stopping criteria could be an upper bound of $G$ - stop tree growing and make node a leaf if the sample is sufficiently pure.\n",
    "\n",
    "\n",
    "## Entropy\n",
    "\n",
    "The entropy a node $T$ is the average level of \"information\", \"surprise\", or \"uncertainty\" inherent in the variable's possible outcomes, and is defined by:\n",
    "\n",
    "\\begin{align*}\n",
    "H(T) = -\\sum_{i=1}^J p_i \\log_2 p_i\n",
    "\\end{align*}\n",
    "\n",
    "### Information Gain for a node split\n",
    "\n",
    "Another way for growing tree is the maximize information gain approach. The information gain for a node split according to attribute $a$ is defined as the decrease in entrpy from the current node to the expected entropy across the children node:\n",
    "\n",
    "\\begin{align*}\n",
    "IG(T,a) = H(T) - H(T|a) = H(T) - \\sum_i p_{i,a} H(i)\n",
    "\\end{align*}\n",
    "\n",
    "Using the above example, the entropy of the original node is: $-0.6\\log_2 0.6 - 0.4 \\log_2 0.4 = 1.06$. The expected entropy of the children nodes resulting from the split is: $0.4 \\times (-\\frac{1}{2}\\log_2 \\frac{1}{2} - \\frac{1}{2}\\log_2 \\frac{1}{2}) + 0.6 \\times (-\\frac{1}{3}\\log_2 \\frac{1}{3} - \\frac{2}{3}\\log_2 \\frac{2}{3}) = 0.91$. So the information gain is 0.15. \n",
    "\n",
    "A stopping criteria is usually lower bound of $IG$ - if splitting on any attribute will not improve information content above a threshold, the growing process should stop and make the current node a leaf.\n",
    "\n",
    "## Variance\n",
    "\n",
    "When the target variabe $y$ is continuous, we can consider the a variance reduction in which the variance of a node is defined as $Var(y|T)$ for all samples of $y$ in node $T$. A more general form is to have in place a prediction rule given $X$ (`find_bestrule`) for children node $i$, $h^i(X)$ and consider the sum of squared errors (error variance/MSE). We refer to the value assignment at leave $c$ as $m_c$. The variance (MSE) for __regression tree__ (as per [Shalizi](http://www.stat.cmu.edu/~cshalizi/350/lectures/22/lecture-22.pdf)) is:\n",
    "\n",
    "\\begin{align*}\n",
    "S = \\sum_{c \\in leaf} \\sum_{i \\in c} (y_i -m_c)^2 = \\sum_{c \\in leaf} n_c V_c\n",
    "\\end{align*}\n",
    "\n",
    "To train a regression tree:\n",
    "1. Start with a single node containing all points. Calculate $m_c$ and $S$\n",
    "2. If all the points in the node have the same value for all the input variables, stop. Otherwise, search over all binary splits of all variables for the one which will reduce $S$ as much as possible. If the largest decrease in $S$ would be less than some threshold $\\delta$, or one of the resulting nodes would contain less than $q$ points, stop. Otherwise, take that split, creating two new nodes.\n",
    "3. In each new node, go back to step 1.\n",
    "\n",
    "\n",
    "## Pruning\n",
    "\n",
    "It is well-noted in the literature that CART is prone to overfitting and becoming too familiar with the training data. It is recommended that the practitioner uses mechanisms to stop the tree growing process before it overfits the data. Such mechanisms are referred as pruning of decision trees. \n",
    "\n",
    "### Pre-pruning\n",
    "\n",
    "Here are [some pruning methods](https://sebastianraschka.com/pdf/lecture-notes/stat479fs18/06_trees_notes.pdf) that can be applied prior to training a decision tree. \n",
    "\n",
    "- Set a minimum number of data points for each node.\n",
    "- Max depth: Set a depth cut-off (maximum tree depth) a priori. Check [here](https://towardsdatascience.com/how-to-find-decision-tree-depth-via-cross-validation-2bf143f0f3d6) for an example of using CV to find best depth.\n",
    "- [Chi-square pruning](https://www.cs.cmu.edu/afs/cs.cmu.edu/academic/class/15381-s06/www/DTs2.pdf): stop growing if a split is not statistically significant (e.g., $\\chi^2$ test)\n",
    "\n",
    "### Post-pruning\n",
    "\n",
    "On top of the pre-pruning methods above, one may also be motivated to post-prune a decision tree after it is trained - i.e. converting some inefficient subtrees (internal node) into single leaf (terminal) nodes. In general, a post-pruning algorithm can be expressed as:\n",
    "\n",
    "<img src=\"https://github.com/kpjwong/ISYE-6501/blob/main/images/Post_prune_alg.PNG?raw=true\" width=\"60%\">\n",
    "\n",
    "A basic form of post-pruning is [reduced-error pruning](https://sebastianraschka.com/pdf/lecture-notes/stat479fs18/06_trees_notes.pdf), which we greedily remove nodes based on validation set performance; it\n",
    "generally improves performance but can be problematic for limited data set sizes\n",
    "\n",
    "Cost-complexity pruning is a common way to prune a decision tree after training. The idea is to add a regularization term to the impurity measure $I$ after training the unregularized model $\\alpha=0$, such that the new objective function becomes $I + \\alpha |N|$, where $\\alpha$ is a tuning parameter and $|N|$ is the total number of nodes. Check [this Statquest video](https://www.youtube.com/watch?v=D0efHEJsfHo) for details and [this page](https://statinfer.com/203-3-10-pruning-a-decision-tree-in-r/) for an R implementation example. For each $\\alpha$, we compute the error of each subtree into a leaf node, from a botton-up manner and then tranform subtree that are penalized to leaf nodes, now that $\\alpha$ is added to the impurity meausre. As $\\alpha$ increases, we expect to have smaller trees. The optimal depth with $\\alpha$ is then selected using CV.\n",
    "\n",
    "## Splitting Data\n",
    "\n",
    "An excerpt from [this Ecological Informatics article](https://sebastianraschka.com/pdf/lecture-notes/stat479fs18/06_trees_notes.pdf). \n",
    "\n",
    "### The need for an independent test set\n",
    "\n",
    "If the sample size is sufficiently large, the data can be divided into two subsets randomly, namely, one for training and other for testing. Defining sufficiently large is problem specific, but one rule of thumb in classification problems is to allow a minimum of 200 observations for a binary classification model, with an additional 100 observations for each additional class. An overly large tree is grown on the training data. Then, using the test set, error rates are calculated for the full tree as well as all smaller subtrees (i.e., trees having fewer terminal nodes than the full tree). Error rates for classification trees are typically the overall misclassification rate, while for regression problems, mean squared error or mean absolute deviation\n",
    "from the median are the criteria used to rank trees of different size. The subtree with the smallest error rate based on the independent test set is then chosen as the optimal tree.\n",
    "\n",
    "Questions often arise as to whether one should use an independent test set or cross-validated estimates of error rates. One thing to consider is that cross-validated error rates are based on models built with only 90% of the data. Consequently, they will not be as good as a model built with all of the data and will consistently result in slightly higher error rates, providing the modeler a conservative independent estimate of error. However, in regression tree applications in particular, this overestimate of error can be substantially higher than the truth, giving more incentive to the modeler to find an  independent test set.\n",
    "\n",
    "### The need for an independent pruning set\n",
    "\n",
    "If the sample size is not large, it is necessary to retain all the data for training purposes. However, pruning and testing must be done using independent data. A way around the dilemma is through $k$-fold cross-validation. Here, all the data are used to fit an initial overly large tree. The data is then divided into (usually) $k$ = 10 subgroups, and 10 separate models fit. The first model uses subgroups 1–9 for training, and subgroup 10 for testing. The second model uses groups 1–8 and 10 for training, and group 9 for testing, and so on. In all cases, an independent test subgroup is available. These 10 test subgroups are then combined to give independent error rates for the initial overly large tree which was fit using all the data. Pruning of this initial tree proceeds as it did in the case of the independent test set, where error rates are calculated for the full tree as well as all smaller subtrees. The subtree with the smallest error rate based on the independent test set is then chosen as the optimal tree.\n",
    "\n",
    "# Pros/Cons and Applications\n",
    "\n",
    "__Pros__: \n",
    "- Easy to [interpret](https://christophm.github.io/interpretable-ml-book/tree.html) and communicate\n",
    "- Independent of feature scaling\n",
    "\n",
    "__Cons__: \n",
    "- Easy to overfit and sensitive to outliers\n",
    "- Elaborate pruning required\n",
    "- Output range is bounded (dep. on training examples) in regression trees\n",
    "- Expensive to just fit a \"diagonal line\" (e.g. figure below from)\n",
    "\n",
    "<img src=\"https://raw.githubusercontent.com/alexeygrigorev/wiki-figures/master/ufrt/kddm/decision-tree-boundary.png\">\n",
    "\n",
    "__Applications__: Check [MIT's courseware](https://ocw.mit.edu/courses/sloan-school-of-management/15-071-the-analytics-edge-spring-2017/trees/) for various application of CART including prediction of court's judgement, healthcare costs, and house prices using just latitudes and longitudes (figure below).\n",
    "\n",
    "<img src=\"https://github.com/kpjwong/ISYE-6501/blob/main/images/CA_house_price.PNG?raw=true\" width=\"40%\">"
   ]
  },
  {
   "cell_type": "markdown",
   "metadata": {},
   "source": [
    "# Random Forest\n",
    "\n",
    "## Motivation: Why Bagging Works\n",
    "\n",
    "## Algorithm and Model Selection\n",
    "\n",
    "## Interpretation\n",
    "\n",
    "## Example (if any)\n",
    "\n",
    "## Pros and Cons"
   ]
  },
  {
   "cell_type": "markdown",
   "metadata": {},
   "source": [
    "# Background: Gradient Boosting & Stochastic Gradient Boosting\n",
    "\n",
    "Mainly based on [Hastings text book](https://web.stanford.edu/~hastie/Papers/ESLII.pdf) and various online sources. The term \"Boosting\" refers to a family of algorithms which converts weak learner to strong learners. Boosting is an ensemble method for improving the model predictions of any given learning algorithm. The idea of boosting is to train weak learners sequentially, each trying to correct its predecessor.\n",
    "\n",
    "\n",
    "# Gradient Boosting Machine\n",
    "\n",
    "## Overview\n",
    "\n",
    "Based on [Friedman (1999)](https://statweb.stanford.edu/~jhf/ftp/trebst.pdf). We consider the following optimization problem in a supervised learning setting:\n",
    "\n",
    "\\begin{align*}\n",
    "F^* &= \\arg \\min_{F} E_{y,X} \\big[ L(y,F(X)) \\big] = \\arg \\min_{F} E_X \\big[ E_y[ L(y,F(X)) | X ]  \\big]\n",
    "\\end{align*}\n",
    "\n",
    "Here $L$ is a loss function (e.g. log-likelihood, sum of squared errors). Note that without a parameterization, we are optimization over the function space $\\{F: \\mathbb{R}^{|X|} \\rightarrow \\mathbb{R}\\}$. We are interested in the functional subspace $\\mathcal{F} = \\big\\{F: F(x;\\{\\beta_m, a_m\\}_{m=1}^M) = \\sum_{m=1}^M \\beta_m h(x;a_m) \\big\\}$. The basis function $h$ is also known as the base learner. We will see later how regression trees fit naturally into this criteria. \n",
    "\n",
    "Now the optimization is essentially parameteric:\n",
    "\n",
    "\\begin{align*}\n",
    "\\{ \\beta^*_m, a^*_m \\} &= \\arg \\min_{\\{\\beta_m, a_m\\}} E_{y,X} \\big[ L\\big(y,\\sum_{m=1}^M \\beta_m h(X;a_m)\\big) \\big]\n",
    "\\end{align*}\n",
    "\n",
    "With with finite data, we consider the data based estimate of expected loss:\n",
    "\n",
    "\\begin{align*}\n",
    "\\{ \\beta^*_m, a^*_m \\} &= \\arg \\min_{\\{\\beta_m, a_m\\}} \\sum_{i=1}^N L\\big(y_i,\\sum_{m=1}^M \\beta_m h(X_i;a_m)\\big)\n",
    "\\end{align*}\n",
    "\n",
    "\n",
    "When joint optimization is not possible, one may try the following <i>greedy stage-wise</i> approach. First we break down $F^*$ into $m$ additive approximators $F_m$:\n",
    "\n",
    "\n",
    "\\begin{align*}\n",
    "F^*(X) &= \\sum_{m=1}^M \\beta^*_m h(X_i;a^*_m) \\triangleq \\sum_{m=1}^M F_m(X) \\\\\n",
    "\\end{align*}\n",
    "\n",
    "Then we consider the following __boosting__ equations:\n",
    "\n",
    "\\begin{align*}\n",
    "(\\beta^*_m, a^*_m) &= \\arg \\min_{\\beta_m, a_m} \\sum_{i=1}^N L\\big(y_i, F_{m-1}(X_i) + \\beta_m h(X_i;a_m)\\big) \\\\\n",
    "F_m(X) &= F_{m-1}(X_i) + \\beta^*_m h(X_i;a^*_m)\\\\\n",
    "\\end{align*}\n",
    "\n",
    "Given any approxmiator $F_{m-1}(X)$, the function $\\beta_m h(X; a_m)$ can be viewed as the best greedy step towards the optimal solution $F^*(X)$. Equivalently, we know that $\\beta_m h(X; a_m)$ must point towards to the opposite direction of the steepest descent, i.e. parallel to $-g_m = \\{-g_m(X_i)\\}_1^N$, with:\n",
    "\n",
    "\\begin{align*}\n",
    "-g_m(X_i) = -\\bigg[ \\frac{\\partial L(y_i, F(X_i))}{\\partial F(X_i)} \\bigg]_{F(X_i)=F_{n-1}(X_i)}\n",
    "\\end{align*}\n",
    "\n",
    "Note that $g_m$ is only defined on $\\{X_i\\}_{i=1}^N$, we using the smoothness of $h$ to extend the domain. Since $\\beta_m$ is a scalar, the direction of $\\beta_m h(X; a_m)$ should depend on $a_m$ only. A criterion for $a_m$ is therefore,\n",
    "\n",
    "\\begin{align*}\n",
    "a^*_m = \\arg \\min_{a,\\delta} \\sum_{i=1}^N \\big[ -g_m(X_i) - \\delta h(X_i; a) \\big]^2\n",
    "\\end{align*}\n",
    "\n",
    "Here $\\delta$ is a nuisance parameter. Now that $h(X; a^*_m)$ points to the steepest descent, it suffice for us to find $\\beta^*_m$, the optimal step size. Here we use the [linear search](https://www.cs.cmu.edu/~ggordon/10725-F12/scribes/10725_Lecture5.pdf) approach $\\arg \\min_{s \\geq 0} f(x-s\\nabla f(x))$:\n",
    "\n",
    "\\begin{align*}\n",
    "\\beta^*_m = \\arg \\min_{\\beta} \\sum_{i=1}^N L\\big(y_i, F_{m-1}(X_i) + \\beta h(X_i, a_m^*)\\big)\n",
    "\\end{align*}\n",
    "\n",
    "### Summary of Algorithm\n",
    "- Use additive finite Series to approximate the optimal function, each of the $M$ approximator is a basis learner $h$\n",
    "- Use a stagewise greedy optimization to approximate joint optimization of the series param/coeff\n",
    "- Param of basis is chosen such that the basis points to the direction of negative gradient, i.e. steepest descent\n",
    "- Coeff of basis is chosen using line search step size\n",
    "- Resulting pseudocode, with a slight change of parameter naming, is illustrated as follows:\n",
    "\n",
    "<img src=\"https://i.stack.imgur.com/E3HVG.png\">\n",
    "\n",
    "## Gradient Boosting Trees\n",
    "\n",
    "Ensemble regression trees fits in the class overall approximation function $F$ that can be naturally decomposed into additive approximators. When each base learner $h$ is a regression tree with $J$ leaf and using single score $b_j$ for each leaf $R_j$, we can consider the value assignment $\\{b_j\\}_{j=1}^J$ and nodes $\\{R_j\\}_{j=1}^J$ as the coefficients and parameters for the tree represented by $h$. Formally,\n",
    "\n",
    "\\begin{align*}\n",
    "h(X; \\{b_j, R_j\\}_{j=1}^J) = \\sum_{j=1}^J b_j I\\{X \\in R_j\\}\n",
    "\\end{align*}\n",
    "\n",
    "So essentially, these base learner trees form an ensemble regression tree that defines $F$. Each regression tree has the previous error as target. To see this, note that the additive modeling problem can be expressed as:\n",
    "\n",
    "\\begin{align*}\n",
    "\\text{Tree}_m(X) = \\arg \\min_{\\text{Tree}} \\sum_{i=1}^N L\\big( y_i, F_{m-1}(X) + \\text{Tree} (X) \\big) \n",
    "\\end{align*}\n",
    "\n",
    "The multiplicative coefficient to the base learners ($\\beta_m$) are natrually absorbed by the tree. Since we would like to minimize the overall loss, we will be training a regression fitting the gradient of $L$ with respect to $F$, evaluated at $F_{m-1}$. For example, if $L$ is the sum of squared loss, the gradient will be previous residuals and if $L$ is the absolute deviation this term is just the sign of the previous residuals. An advantage offered by the structure of the regression tree learner function is that each tree can be considered an additive model as $h = \\sum_{j=1}^J b_j I\\{X \\in R_j\\}$. Given nodes $\\{R_{jm}\\}$ for tree $m$,\n",
    "\n",
    "\\begin{align*}\n",
    "\\{b_{jm}^*\\}_{j=1}^{J_m} &= \\arg \\min_{\\{b_j\\}} \\sum_{i=1}^N L\\big( y_i, F_{m-1}(X_i) + \\sum_{j=1}^{J_m} b_j I\\{ X_i \\in R_{jm} \\} \\big) & &\\\\\n",
    "b^*_{jm} &= \\arg \\min_{b_j} \\sum_{i:X_i\\in R_{jm}} L\\big( y_i, F_{m-1}(X_i)-b_j \\big) & &\\because R_{jm} \\text{ are disjoint} \n",
    "\\end{align*}\n",
    "\n",
    "The decomposition in the second line is implied by the disjoint nature of regions produced by regression trees. To sum up, the pseudocode, upon parameter renaming is:\n",
    "\n",
    "<img src=\"https://miro.medium.com/max/2160/1*xQXPUxSnBd1lOxjLoePoVQ.png\" width=\"50%\">\n",
    "\n",
    "## Regularization and Model Selection\n",
    "\n",
    "### Shrinkage\n",
    "\n",
    "Ways to control for overfitting for boosting trees include controlling the maximum depth $\\bar{J} = \\max_m J_m$ and the number of boosting approximators $M$ (note that $M$ is also the number of iterations implied by an accuracy threshold, or \"training risk\": trees are added continuously until the prediction is smaller than $\\varepsilon$). On top of these, it is recommended that the gradient update $\\beta_m^* h(X; a_m^*)$ be shrunken by multiplying to a small constant $\\nu \\in (0,1)$ to avoid overfitting the data. The parameter $\\nu$ can be regarded as controlling the learning rate of the boosting procedure. Smaller values of ν (more shrinkage) result in larger training risk for the same number of iterations M. Thus, both $\\nu$ and $M$ control prediction risk on the training data. Note that these parameters do not operate independently. Smaller values of $\\nu$ lead to larger values of $M$ for the same training risk, so that there is a tradeoff between them.\n",
    "\n",
    "Empirically it has been found (Friedman, 2001) that smaller values of $\\nu$ favor better test error, and require correspondingly larger values of $M$. In fact, the best strategy appears to be to set $\\nu$ to be very small ($\\nu < 0.1$) and then choose $M$ by early stopping. This yields dramatic improvements (over no shrinkage $\\nu$ = 1) for regression and for probability estimation. The corresponding improvements in misclassification risk via (10.20) are less, but still substantial. The price paid for these improvements is computational: smaller values of $\\nu$ give rise to larger values of $M$, and computation is proportional to the latter. However, many iterations are generally computationally feasible even on very large data sets. This is partly due to the fact that small trees are induced at each step with no pruning.\n",
    "\n",
    "### Stochastic Boosting\n",
    "\n",
    "With [stochastic gradient boosting (Friedman, 1999)](https://statweb.stanford.edu/~jhf/ftp/stobst.pdf), at each iteration we\n",
    "sample a fraction $\\eta$ of the training observations (without replacement), and grow the next tree using that subsample. The rest of the algorithm is identical. A typical value for $\\eta$ can be 1/2, although for large $N$, $\\eta$ can be substantially smaller than half. Not only does the sampling reduce the computing time by the same fraction $\\eta$, but in many cases it actually produces a more accurate model. \n",
    "\n",
    "<img src=\"https://www.researchgate.net/profile/Msi-Malik/publication/320363849/figure/fig2/AS:553306791608320@1508930027595/Stochastic-gradient-boosting-Friedman-2002.png\" width=\"50%\">\n",
    "\n",
    "Simulation studies showed that subsampling without shrinkage does poorly, so have four parameters to set: $J$ (size of trees), $M$ (number of iterations/additive trees), $\\nu$ (regularization) and $\\eta$ (subsample). Typically some early explorations determine suitable values for $J$, $\\nu$ and $\\eta$, leaving $M$ as the primary parameter.\n",
    "\n",
    "## Interpretation\n",
    "\n",
    "Single decision trees are highly interpretable. The entire model can be completely represented by a simple two-dimensional graphic (binary tree) that is easily visualized. Linear combinations of trees lose this important feature, and must therefore be interpreted in a different way. \n",
    "\n",
    "### Relative Importance\n",
    "\n",
    "Often in regression trees, only a few of the features have substantial influence on the response; the vast majority are irrelevant and could just as well have not been included. It is often useful to learn the relative importance or contribution of each input variable in predicting the response. As an extension of the suggestion by Breiman (1984), the relative importance of feature $l$ for each tree $T$ and the additive tree expansions are:\n",
    "\n",
    "\\begin{align*}\n",
    "I_l^2(T_m) &= \\sum_{t=1}^{J_m-1} \\hat{\\iota}_t^2 I(\\nu(t) = l) \\\\\n",
    "I_l^2 &= \\frac{1}{M} \\sum_{m=1}^M I_l^2(T_m)\n",
    "\\end{align*}\n",
    "\n",
    "In the first equation, $t$ is the index for internal nodes (note that if there are $J$ terminal nodes, there will be $J-1$ internal nodes). $\\hat{\\iota}$ is the gain in criterion (e.g. information gain, gini index, R sqaured) and $\\nu(t)$ is the feature being splitted at $t$.\n",
    "\n",
    "The feature importance is aggregated by averaging for the additive tree expansion. Due to the stabilizing effect of averaging, $I_l^2$ is more reliable than $I_l^2(T_m)$ for a single tree $m$. With shrinkage $\\nu$, the masking of important variables by others with which they are highly correlated will become less of a problem. Note that here $I_l^2$ and $I_l^2(T_m)$ are squared relevance; the actual relevances are their respective square roots. Since these measures are relative, it is customary to assign the largest a value of 100 and then scale the others accordingly. \n",
    "\n",
    "### Partial Dependence Plots\n",
    "\n",
    "For low dimensional models, graphical renderings of the $f(X)$ as a function of its arguments provides a comprehensive summary of its dependence on the joint values of the input variables. For more than two or three variables, viewing functions of the corresponding higher-dimensional arguments is more difficult. A useful alternative can sometimes be to view a collection of plots, each one of which shows the partial dependence of the approximation $f(X)$ on __a selected small subset__ of the input variables. Although such a collection can seldom provide a comprehensive depiction of the approximation, it can often produce helpful clues, especially when $f(X)$ is dominated by low-order interactions (e.g. 1st, 2nd order interactions).\n",
    "\n",
    "Formally, let $X_S$ be a set of selected features and $X_C$ be the set of compliments such that $X_S \\cup X_C = \\{X_1, \\ldots, X_p\\}$ the feature space. With $\\{X_{C1}, \\ldots, X_{CN}\\}$ the set of values of $X_C$ in the training data and $g()$ their joint distribution, the theoretical and data-based partial effect for $X_S$ is defined as:\n",
    "\n",
    "\\begin{align*}\n",
    "f_S(X_S) &= E_{X_C}\\big[ f(X_S, X_C) \\big] =\\int f(X_S,X_C) g_{X_C}(X_C) dX_C \\\\\n",
    "\\bar{f}_(X_S) &= \\frac{1}{N} \\sum_{i=1}^N f(X_S,X_{Ci})\n",
    "\\end{align*}\n",
    "\n",
    "Note that $f_S(X_S)$ is the effect of $X_S$ on $f(X)$ after accounting for the (average) effects of the other variables $X_C$ on $f(X)$. This is not to be confused with $\\hat{f}_S(X_S)$, the the effect of $X_S$ on $f(X)$ ignoring the effects of $X_C$. \n",
    "\n",
    "\\begin{align*}\n",
    "\\hat{f}_S(X_S) &= E\\big[ f(X_S, X_C) | X_S\\big] =\\int f(X_S,X_C) g_{X_C|X_S}(X_C|X_S) dX_C \\\\\n",
    "\\end{align*}\n",
    "\n",
    "The conditional mean $\\hat{f}_S(X_S)$ should equate the marginal mean $f_S(X_S)$ only when $X_S$ and $X_C$ are independent."
   ]
  },
  {
   "cell_type": "markdown",
   "metadata": {},
   "source": [
    "# AdaBoost\n",
    "\n",
    "Based on [Freund and Schapire (1997)](https://www.face-rec.org/algorithms/Boosting-Ensemble/decision-theoretic_generalization.pdf) and [Hastings text book](https://web.stanford.edu/~hastie/Papers/ESLII.pdf).\n",
    "\n",
    "## Overview\n",
    "\n",
    "AdaBoost, short for Adaptive Boosting, is a machine learning meta-algorithm formulated by Yoav Freund and Robert Schapire. In this PAC (see below) framework, a training sample with $N$ observations are passed to the learner, which outputs a guess of the target rule after $T$ periods. The authors developed a generalization of Littlestone and Warmuth's \"weighted majority\" (voting) algorithm in which wrong decisions are discounted among a pool of learners to a dynamic allocation problem. Formally, each iteration/trial $t$ is assigned a weight vector according an error penalty scheme and at the end, the output rule is a weighted average across the $T$ trials. It was shown that the average per trial net loss for adaboost is bounded by $O\\sqrt{\\frac{\\ln N}{T}}$.\n",
    "\n",
    "## Preliminary\n",
    "\n",
    "In their [1997 paper](https://www.face-rec.org/algorithms/Boosting-Ensemble/decision-theoretic_generalization.pdf), Freund and Schapire proposed an <b>online allocation model</b> under the <b>Probably Approximately Correct</b> (PAC) learning framework. In this framework, denote $X$ the domain and a functional subspace $c: X \\rightarrow \\{0,1\\}$ the concept class. The learner is given a set of training examples $\\{(x_i, c^*(x_i)\\}_{i=1}^N$ where $\\{x_i\\}_{i=1}^N$ were randomly chosen from a fixed distribution $\\mathcal{D}$ on $X$. $c^*$ is the target concept that the learner aims to infer. After some period $T$, the learner must form hypothesis $h: X \\rightarrow [0,1]$ (could arise of aggregated hypotheses $h_t$ each period). Note that the support for $h$ is continuous, and the value $h(x)$ can be interpreted as a randomized prediction of the label of $x$ that is 1 with probability $h(x)$ and 0 with probability $1-h(x)$. Note that a learner output $h$ that has low error for $\\{(x_i, c^*(x_i))\\}$ does not necessarily converge to $c^*$ - it could be overfitting the training examples. We now define a weak learner.\n",
    "\n",
    "__Definition__ (Weak PAC-learnability)\n",
    "\n",
    "A concept class $\\mathcal{C}$ is weak PAC-learnable if $\\exists \\gamma > 0$ such that: for any $c\\in \\mathcal{C}$, any distribution $\\mathcal{D}$ on $X$, $\\forall \\delta > 0$, there is an algorithm $A$ if given $m = \\text{poly}\\Big(\\frac{1}{\\delta}\\Big)$ examples, outputs h with:\n",
    "\n",
    "\\begin{align*}\n",
    "P_\\mathcal{D} \\bigg( \\text{error}(h) \\leq \\frac{1}{2}-\\gamma  \\bigg) \\geq 1 - \\delta\n",
    "\\end{align*}\n",
    "\n",
    "An algorithm $A$ that performs the above criteria for a weak PAC-learnable conept class is a weak learner. Putting the mathematical terms in words, a \"weak\" learner is just one which performs relatively poorly - its accuracy is above chance, but just barely. Boosting is a class of algorithm that converts a \"weak\" PAC learning algorithm that performs just slightly better than random guessing into one with arbitrarily high accuracy. Such \"weak\" learners could be CART (boosting trees), or even neural networks ([Drucker, Schapire and Simard (1993)](https://papers.nips.cc/paper/1992/file/acc3e0404646c57502b480dc052c4fe1-Paper.pdf)).\n",
    "\n",
    "## Algorithm\n",
    "\n",
    "Here's the formal algorithm for AdaBoost on a binary classification problem. Multi-class classification as well as regression versions are included in the paper. Inputs to the algorithm include training examples $\\{(x_i, y_i\\}$ where $y_i = c^*(x_i)$, parior distribution of $X$, $\\mathcal{D}$ (typically $\\frac{1}{N}$), a weak-learner algorithm $A$, and the number of iterations $T$. In the algorithm, we maintain a $N$-weight vector $w^t$ for each $t$ and update it in the next period. At $t=1$, we initialize $w^1_i = \\mathcal{D}(i)$.\n",
    "\n",
    "For $t = 1, 2, \\ldots, T$:\n",
    "1. Set normalized weights $p^t = \\frac{w^t}{\\sum_i w^t_i}$\n",
    "2. Use $A$ to output $h_t: X \\rightarrow [0,1]$\n",
    "3. Evaluate error for $h_t$ as: $\\varepsilon_t = \\sum_i p^t_i |h_t(x_i) - y_i|$\n",
    "4. Define penalty $\\beta_t = \\frac{\\varepsilon_t}{1-\\varepsilon_t}$\n",
    "5. Update $w^{t+1}_i \\leftarrow w^t_i \\beta_t^{1-|h_t(x_i)-y_i|}$\n",
    "\n",
    "The final output is:\n",
    "\n",
    "\\begin{align*}\n",
    "h_f(x) = \\begin{cases}\n",
    "1 & & \\text{if} \\sum_t \\log \\Big( \\frac{1}{\\beta_t} \\Big) h_t(x) \\geq \\frac{1}{2}\\sum_t \\log \\frac{1}{\\beta_t} \\\\\n",
    "0 & & \\text{otherwise} \n",
    "\\end{cases}\n",
    "\\end{align*}\n",
    "\n",
    "Note that the algorithm is online and adaptive as the penalty term $\\beta_t$ is a function of $\\varepsilon_t$, the current fitting error. The update rule reduces the probability assigned to those examples on which the hypothesis makes a good prediction and increases the probability of the examples on which the prediction is poor.\n",
    "\n",
    "## As Gradient Boosting Machine\n",
    "\n",
    "After a few years of its inception, it was found that AdaBoost will fit in the Gradient Boosting Machine framework. This is the speical case where the exponential loss function $L(y_i, f(x_i)) = \\exp(-y_i f(x_i))$. One can check a mechanical proof in p.343 of [Hastings](https://web.stanford.edu/~hastie/Papers/ESLII.pdf). It is interesting to see how different motivations inspiring AdaBoost and GB result in the same algorithm. Regarding the use of exponential loss, note that,\n",
    "\n",
    "\\begin{align*}\n",
    "f^*(x) &= \\arg \\min_{f(x)} E_{Y|x}\\big[ \\exp(-Yf(x))\\big]\\\\\n",
    "&= \\frac{1}{2} \\log \\frac{P(Y=1|x)}{P(Y=-1|x)}\n",
    "\\end{align*}\n",
    "\n",
    "So the exponential loss is minimized at the log-odds of $P(Y=1|x)$. Also note that the log-odds has a logit reference, hence justifying a (Bayesian) MLE with logistic shock:\n",
    "\n",
    "\\begin{align*}\n",
    "P(Y=1|x) = \\frac{1}{1+\\exp\\big(-2f^*(x)\\big)}\n",
    "\\end{align*}"
   ]
  },
  {
   "cell_type": "markdown",
   "metadata": {},
   "source": [
    "# XGBoost\n",
    "\n",
    "In their influential paper, [Chen and Guestrin (2016)](https://arxiv.org/pdf/1603.02754.pdf) proposed a scalable implementation of the gradient boosting regression trees. In this section, we'll have a look at the algorithmic approximation techniques to simplify and implement gradient boosting effectively. \n",
    "\n",
    "## Algorithm\n",
    "\n",
    "### Newton Approximation for Boosting Objective\n",
    "\n",
    "We first formulate the gradient boosting problem as per the authors' representation. The regression setting in the supervised learning setting is considered, the target variable $\\hat{y}_i$ as a function of $x \\in \\mathbb{R}^m$ is estimated with an additive learner, i.e. the sum of base learners. Here each base learner is a CART with $T$ terminal leaves and in the we assign a constant value $w$ to each terminal leaf (instead of arbitrary functions). Formally:\n",
    "\n",
    "\\begin{align*}\n",
    "\\hat{y}_i &= \\sum_k f_k(x_i) \\text{ where }  f_k \\in \\mathcal{F}\\\\\n",
    "\\mathcal{F} &= \\big\\{ f: \\mathbb{R}^m \\rightarrow \\mathbb{R} | f(x) = w_{q(x)}, w \\in \\mathbb{R}^T \\text{ and }  q: \\mathbb{R}^m \\rightarrow [1,T] \\big\\}\n",
    "\\end{align*}\n",
    "\n",
    "The objective for a regularized gradient boosting tree is:\n",
    "\n",
    "\\begin{align*}\n",
    "L &= \\sum_{i=1}^n l(y_i, \\hat{y}_i) + \\sum_k \\Omega(f_k)\\\\\n",
    "\\Omega(f_k) &= \\gamma T + \\frac{1}{2}\\lambda \\Vert w \\Vert^2\n",
    "\\end{align*}\n",
    "\n",
    "In the stagewise algorithm introduced by [Friedman (1999)](https://statweb.stanford.edu/~jhf/ftp/trebst.pdf) presented above. In the $t$-th step we would like to _greedily_ maximize over the functional space $\\mathcal{F}$ for $f_t$. As we have seen, $f_t$ should point to the opposite direction of the gradient for $l$ evaluated at last step $f^{(t-1)}$, i.e. the direction of the steepest descent. Instead of evaluating the gradient of $l$ and solving for $w^{(t)}$ so $f^{(t)}$ points to the correct direction, we use a second of Taylor (Newton) expansion:\n",
    "\n",
    "\\begin{align*}\n",
    "L^{(t)} &= \\sum_{i=1}^n l\\big(y_i, \\hat{y}^{(t-1)}_i + f_t(x_i)\\big) + \\Omega(f_t)\\\\\n",
    "&\\approx \\sum_{i=1}^n \\Big[ l(y_i,y_i^{(t-1)}) + g_i f_t(x_i) + \\frac{1}{2} h_i f_t^2(x_i) \\Big]  + \\Omega(f_t)\\\\\n",
    "f_t(x) &= \\frac{\\partial l}{\\partial \\hat{y}}\\big(y_i, \\hat{y}_i\\big)\\\\\n",
    "g_t(x) &= \\frac{\\partial^2 l}{\\partial \\hat{y}^2}\\big(y_i, \\hat{y}_i\\big)\n",
    "\\end{align*}\n",
    "\n",
    "As the control is $f_t$, the term $l(y_i,y_i^{(t-1)})$ can be regarded as a constant so the problem comes down to maximize $\\tilde{L} = L - l(y_i,y_i^{(t-1)})$. Note that the advantage of using the Newton approximation is that a closed form for the optimal weights $w^*$ that characterize $f_t$ can be derived as follows:\n",
    "\n",
    "\\begin{align*}\n",
    "\\tilde{L} &= \\sum_i \\Big( g_i f_t(x_i) + \\frac{1}{2} h_i f_t^2(x_i) \\Big) + \\Omega(f_t) \\\\\n",
    "&= \\sum_{j=1}^T \\Big[ \\sum_{i \\in I_j} \\big( g_i f_t(x_i) + \\frac{1}{2} h_i f_t^2(x_i) \\big) \\Big] + \\gamma T + \\frac{1}{2} \\lambda \\sum_{j=1}^T w_j^2\\\\\n",
    "&= \\sum_{j=1}^T \\Big[ \\sum_{i \\in I_j} g_i w_j + \\frac{1}{2} \\sum_{i \\in I_j}(h_i + \\lambda) w_j^2 \\Big] + \\gamma T\\\\\n",
    "\\end{align*}\n",
    "\n",
    "### A closed form criterion for tree selection\n",
    "\n",
    "For a given mapping from sample $x_i$ to terminal leaves $j \\in [1,T]$, $q(x)$, we can solve for the optimal weights $w^*$ for each leaf easily. \n",
    "\n",
    "\\begin{align*}\n",
    "w_j^* &= -\\frac{\\sum_{i \\in I_j} g_i}{\\sum_{i \\in I_j} h_i + \\lambda}\\\\\n",
    "\\tilde{L}^{(t)}(q) &= -\\frac{1}{2} \\sum_{j=1}^T \\frac{\\big( \\sum_{i \\in I_j} g_i \\big)^2}{\\sum_{i\\in I_j}h_i + \\lambda} + \\gamma T\n",
    "\\end{align*}\n",
    "\n",
    "The resulting objective $\\tilde{L}(q)$ provides a metric to evaluate the quality of tree partition mapping $q$. It follows that the _optimized boosting objective_ given by $\\tilde{L}^{(t)}(q)$ provides a criterion to evaluate the gains of a split within a tree. Essentially, we want to compare the tree score for partition $q$ characterized by $I$ and the resulting partition arising from the split. We only need to compare difference of score in the current node, i.e. $I$ and $(I_L, I_R)$ for which $I_L \\cup I_R = L$.\n",
    "\n",
    "### Approximate Greedy Algorithm using Weighted Quantile Sketch\n",
    "\n",
    "### Sparsity Aware Algorithm\n",
    "\n",
    "\n",
    "## Model Selection\n",
    "\n",
    "## Example\n",
    "\n",
    "## Pros and Cons\n",
    "\n",
    "- why p(1-p) as weights?"
   ]
  },
  {
   "cell_type": "markdown",
   "metadata": {},
   "source": [
    "# Some Topics in Logistic Regression\n",
    "\n",
    "## Imbalanced Samples\n",
    "\n",
    "## ROC Curves\n",
    "\n",
    "## Choosing Thresholds"
   ]
  },
  {
   "cell_type": "code",
   "execution_count": null,
   "metadata": {},
   "outputs": [],
   "source": []
  },
  {
   "cell_type": "code",
   "execution_count": null,
   "metadata": {},
   "outputs": [],
   "source": []
  },
  {
   "cell_type": "code",
   "execution_count": null,
   "metadata": {},
   "outputs": [],
   "source": []
  },
  {
   "cell_type": "markdown",
   "metadata": {},
   "source": [
    "Reading List\n",
    "\n",
    "- Random Forest paper: https://www.stat.berkeley.edu/~breiman/randomforest2001.pdf\n",
    "- Random Forest Notes: https://builtin.com/data-science/random-forest-algorithm\n",
    "- Bagging: https://stats.stackexchange.com/questions/380023/how-can-we-explain-the-fact-that-bagging-reduces-the-variance-while-retaining-t\n",
    "- Gradient Boosting: https://statweb.stanford.edu/~jhf/ftp/stobst.pdf\n",
    "- Boosting Trees: https://www.stat.auckland.ac.nz/~yee/784/files/ch10BoostingAdditiveTrees.pdf\n",
    "- XGB paper: https://arxiv.org/pdf/1603.02754.pdf\n"
   ]
  },
  {
   "cell_type": "code",
   "execution_count": null,
   "metadata": {},
   "outputs": [],
   "source": []
  },
  {
   "cell_type": "code",
   "execution_count": null,
   "metadata": {},
   "outputs": [],
   "source": []
  },
  {
   "cell_type": "code",
   "execution_count": null,
   "metadata": {},
   "outputs": [],
   "source": []
  },
  {
   "cell_type": "code",
   "execution_count": null,
   "metadata": {},
   "outputs": [],
   "source": []
  },
  {
   "cell_type": "code",
   "execution_count": null,
   "metadata": {},
   "outputs": [],
   "source": []
  },
  {
   "cell_type": "markdown",
   "metadata": {},
   "source": [
    "# ISYE 6501 Homework #7\n",
    "\n",
    "## Jeremy Wong | kwong301@gatech.edu"
   ]
  },
  {
   "cell_type": "markdown",
   "metadata": {},
   "source": [
    "# Question 10.1\n",
    "\n",
    "Using the same crime data set `uscrime.txt` as in Questions 8.2 and 9.1, find the best model you can using:\n",
    "\n",
    "(a) a regression tree model, and \n",
    "<br>(b) a random forest model.  \n",
    "\n",
    "In R, you can use the `tree` package or the `rpart` package, and the `randomForest` package.  For each model, describe one or two qualitative takeaways you get from analyzing the results (i.e., don’t just stop when you have a good model, but interpret it too)."
   ]
  },
  {
   "cell_type": "markdown",
   "metadata": {},
   "source": [
    "# Answer to 10.1\n",
    "\n",
    "## Summary\n",
    "Used `rpart` to train a CART on the crime data:\n",
    "- Model Selection process for CART is essentially:\n",
    "    1. Pre-pruning methods include controlling max depth `maxdepth` and `minsplit`\n",
    "    2. For each grid point, post-prune using cost-complexity pruning controlled by `cp`\n",
    "    3. For each optimized tree at each grid point, use Cross Validation to assess the prediction power (the CV is internalized in the built-in `rpart` functions)\n",
    "- Qualitative analysis with printed trees.\n",
    "\n",
    "Used `randomForest` to train a RF on the crime data:\n",
    "- Model Selection process for RF essentially using CV to tune the number of trees `ntree`, minimum number of observations for splitting `nodesize`, and number of variables `mtry` in each tree. \n",
    "- Qualitative analysis with variable importance plot.\n",
    "\n",
    "## Conclusion\n",
    "- We have two candidates of CART: simply the root node (no tree structure), or a regression tree with a single split with cirterion `Po1` > 7.65. \n",
    "- We have selected RF with CV: 500 trees, split with 2 observations or above, and using 3 bagged variables in each tree.\n",
    "- Predictive performance is not impressive. Both CART and RF have out-of-sample mean sum of squared errors larger than 80,000. Recall that the regression model (with selected features) and Lasso in homework 5 had MSE around 72,000 and 60,000.\n",
    "- Qualitative analysis for both CART and RF indicates that `Po1` and (`Po1`, `Po2`) are the most important respectively. However, I'd take this with a grain of salt, given the poor performance of these models. \n",
    "- In particular, feature importance, a popular interpretive device for random forest models, is pointed out to have problems dealing with correlated features. The fact that (`Po1`, `Po2`) are almost perfectly collinear, and were both identified as the most important features is a good illustration of this point."
   ]
  },
  {
   "cell_type": "markdown",
   "metadata": {},
   "source": [
    "# Details to Answers\n",
    "\n",
    "## 1.1 Training CART\n",
    "\n",
    "We use the `rpart` function to train CART. The R syntax is:\n",
    "\n",
    "```R\n",
    "rpart(formula, data, weights, subset, na.action = na.rpart, method,\n",
    "      model = FALSE, x = FALSE, y = TRUE, parms, control, cost, …)\n",
    "```\n",
    "\n",
    "With the `control` parameter a function output for `rpart.control`:\n",
    "\n",
    "```R\n",
    "rpart.control(minsplit = 20, minbucket = round(minsplit/3), cp = 0.01, \n",
    "              maxcompete = 4, maxsurrogate = 5, usesurrogate = 2, xval = 10,\n",
    "              surrogatestyle = 0, maxdepth = 30, …)\n",
    "```\n",
    "\n",
    "Notable inputs:\n",
    "- `na.action`: Determines the handling of `NA` values. The default action `na.rpart` deletes all observations for which y is missing, but keeps those in which one or more predictors are missing. Other options include `na.pass`, `na.fail` etc.\n",
    "- `method`: Determines the loss function. Use `anova` for regression, `class` for classification. Other options include `exp` designed for [survival analysis trees](https://en.wikipedia.org/wiki/Survival_analysis#Tree-structured_survival_models), and `poisson` for [splitting homogeneous Poisson processes](https://www.probabilitycourse.com/chapter11/11_1_3_merging_and_splitting_poisson_processes.php).\n",
    "- `parms`: A named vector for meta-parameters. In particular, `split` field with `gini` and `information` determines whether Gini or Information gains should be used as splitting criteria for classification trees.\n",
    "- `minsplit`: The minimum number of observations that must exist in a node in order for a split to be attempted.\n",
    "- `cp`: The complexity parameter. Any split that does not decrease the overall lack of fit by a factor of `cp` is not attempted. For instance, with anova splitting (regression trees), this means that the overall R-squared must increase by `cp` at each step. While we will use `cp` in post-pruning, this control allows the user to inform the program that any split which does not improve the fit by `cp` will likely be pruned off by cross-validation, and that hence the program need not pursue it.\n",
    "- `xval`: The number of cross-validations.\n",
    "- `maxdepth`: Set the maximum depth of any node of the final tree.\n",
    "\n",
    "Notable methods under `rpart`:\n",
    "- `summary()`: Summarize a Fitted Rpart Object.\n",
    "- `rsq.rpart()`: Print the R-squared for each split (final value is the R-sq for the tree).\n",
    "- `plot()`: Plot a CART. Note: use `text()` to add text to graph.\n",
    "- `predict()`: Make predictions.\n",
    "- `printcp()`: Displays CP table for Fitted Rpart Object for post-pruning with cross validation errors.\n",
    "- `plotcp()`: Plot a Complexity Parameter Table for an Rpart Fit for post-pruning. \n",
    "- `prune()`: Post-prune a trained CART with a speicifed `cp`.\n",
    "\n",
    "We implement the `rpart` function for training now. As a starter, we go for a rather unrestricted model by allowing `cp` = 0 so there's no hard improvment requirement for each split, `maxdepth` = 20 so the tree can grow as deep as it can, and `minsplit` = 5 so 5 observations will suffice for a split. As the data is small, we choose `xval` equals the number of observations, so a LOOCV is performed in later diagnostic stages."
   ]
  },
  {
   "cell_type": "code",
   "execution_count": 1,
   "metadata": {
    "ExecuteTime": {
     "end_time": "2021-03-11T14:58:41.315167Z",
     "start_time": "2021-03-11T14:58:40.710Z"
    },
    "scrolled": false
   },
   "outputs": [
    {
     "data": {
      "image/png": "[encoded data removed]",
      "text/plain": [
       "plot without title"
      ]
     },
     "metadata": {
      "image/png": {
       "height": 698.7712,
       "width": 698.7712
      }
     },
     "output_type": "display_data"
    }
   ],
   "source": [
    "library(data.table)\n",
    "library(rpart)\n",
    "library(ggplot2)\n",
    "library(magrittr)\n",
    "\n",
    "options(warn=-1)\n",
    "\n",
    "crime_dta <- fread('./hw7/uscrime.txt')\n",
    "tree_control <- rpart.control(cp=0, maxdepth=20L, minsplit=5L, xval=nrow(crime_dta))\n",
    "tree <- rpart(Crime ~ ., crime_dta, control=tree_control)\n",
    "\n",
    "figsize <- 125\n",
    "options(repr.plot.width = sqrt(figsize), repr.plot.height = sqrt(figsize), repr.plot.res = figsize)\n",
    "\n",
    "par(xpd = TRUE)\n",
    "plot(tree, compress = TRUE)\n",
    "text(tree, use.n = TRUE)"
   ]
  },
  {
   "cell_type": "markdown",
   "metadata": {},
   "source": [
    "## 1.2 Post-Pruning\n",
    "\n",
    "A nice feature of the built-in `printcp` function and the `.$cptable` output value is that it internalizes the cross validation routine. It shows the relative error which is $1-R^2$ and the relative CV error corresponds to the columns `xerror`. Two [rules of thumb](https://bookdown.org/mpfoley1973/data-sci/regression-tree.html) for post-pruning: select tree with lowest relative CV SSE for best for lowest possible error. Or alternatively, prune to the smallest tree within 1 SE of the one with the smallest relative SSE. \n",
    "\n",
    "We use the latter rule for post-pruning. For the tree trained above, the best pruning would be at the first split, or `cp` equals 0.1654002424."
   ]
  },
  {
   "cell_type": "code",
   "execution_count": 3,
   "metadata": {
    "ExecuteTime": {
     "end_time": "2021-03-11T14:58:47.089638Z",
     "start_time": "2021-03-11T14:58:47.043Z"
    }
   },
   "outputs": [
    {
     "data": {
      "text/html": [
       "<table class=\"dataframe\">\n",
       "<caption>A data.table: 16 × 7</caption>\n",
       "<thead>\n",
       "\t<tr><th scope=col>CP</th><th scope=col>nsplit</th><th scope=col>rel.error</th><th scope=col>xerror</th><th scope=col>xstd</th><th scope=col>xerror_cap</th><th scope=col>eval</th></tr>\n",
       "\t<tr><th scope=col>&lt;dbl&gt;</th><th scope=col>&lt;dbl&gt;</th><th scope=col>&lt;dbl&gt;</th><th scope=col>&lt;dbl&gt;</th><th scope=col>&lt;dbl&gt;</th><th scope=col>&lt;dbl&gt;</th><th scope=col>&lt;chr&gt;</th></tr>\n",
       "</thead>\n",
       "<tbody>\n",
       "\t<tr><td>0.3629629325</td><td> 0</td><td>1.00000000</td><td>1.043951</td><td>0.2612611</td><td>1.305212</td><td>min xerror</td></tr>\n",
       "\t<tr><td>0.1654002424</td><td> 1</td><td>0.63703707</td><td>1.144690</td><td>0.2883448</td><td>1.305212</td><td>under cap </td></tr>\n",
       "\t<tr><td>0.0573014327</td><td> 3</td><td>0.30623658</td><td>1.645859</td><td>0.3932568</td><td>1.305212</td><td>          </td></tr>\n",
       "\t<tr><td>0.0553886654</td><td> 4</td><td>0.24893515</td><td>1.574746</td><td>0.3885601</td><td>1.305212</td><td>          </td></tr>\n",
       "\t<tr><td>0.0517316514</td><td> 5</td><td>0.19354648</td><td>1.573788</td><td>0.3886082</td><td>1.305212</td><td>          </td></tr>\n",
       "\t<tr><td>0.0239290842</td><td> 6</td><td>0.14181483</td><td>1.410100</td><td>0.3667461</td><td>1.305212</td><td>          </td></tr>\n",
       "\t<tr><td>0.0230593101</td><td> 7</td><td>0.11788575</td><td>1.475646</td><td>0.3811656</td><td>1.305212</td><td>          </td></tr>\n",
       "\t<tr><td>0.0111671232</td><td> 8</td><td>0.09482644</td><td>1.436872</td><td>0.3588562</td><td>1.305212</td><td>          </td></tr>\n",
       "\t<tr><td>0.0106378429</td><td> 9</td><td>0.08365932</td><td>1.460477</td><td>0.3606309</td><td>1.305212</td><td>          </td></tr>\n",
       "\t<tr><td>0.0059906109</td><td>10</td><td>0.07302147</td><td>1.446789</td><td>0.3613414</td><td>1.305212</td><td>          </td></tr>\n",
       "\t<tr><td>0.0056078921</td><td>11</td><td>0.06703086</td><td>1.447623</td><td>0.3611853</td><td>1.305212</td><td>          </td></tr>\n",
       "\t<tr><td>0.0021854944</td><td>12</td><td>0.06142297</td><td>1.439757</td><td>0.3607751</td><td>1.305212</td><td>          </td></tr>\n",
       "\t<tr><td>0.0014406052</td><td>13</td><td>0.05923748</td><td>1.431545</td><td>0.3606129</td><td>1.305212</td><td>          </td></tr>\n",
       "\t<tr><td>0.0002430680</td><td>14</td><td>0.05779687</td><td>1.429001</td><td>0.3606741</td><td>1.305212</td><td>          </td></tr>\n",
       "\t<tr><td>0.0001351029</td><td>15</td><td>0.05755380</td><td>1.428769</td><td>0.3606886</td><td>1.305212</td><td>          </td></tr>\n",
       "\t<tr><td>0.0000000000</td><td>16</td><td>0.05741870</td><td>1.428769</td><td>0.3606886</td><td>1.305212</td><td>          </td></tr>\n",
       "</tbody>\n",
       "</table>\n"
      ],
      "text/latex": [
       "A data.table: 16 × 7\n",
       "\\begin{tabular}{lllllll}\n",
       " CP & nsplit & rel.error & xerror & xstd & xerror\\_cap & eval\\\\\n",
       " <dbl> & <dbl> & <dbl> & <dbl> & <dbl> & <dbl> & <chr>\\\\\n",
       "\\hline\n",
       "\t 0.3629629325 &  0 & 1.00000000 & 1.043951 & 0.2612611 & 1.305212 & min xerror\\\\\n",
       "\t 0.1654002424 &  1 & 0.63703707 & 1.144690 & 0.2883448 & 1.305212 & under cap \\\\\n",
       "\t 0.0573014327 &  3 & 0.30623658 & 1.645859 & 0.3932568 & 1.305212 &           \\\\\n",
       "\t 0.0553886654 &  4 & 0.24893515 & 1.574746 & 0.3885601 & 1.305212 &           \\\\\n",
       "\t 0.0517316514 &  5 & 0.19354648 & 1.573788 & 0.3886082 & 1.305212 &           \\\\\n",
       "\t 0.0239290842 &  6 & 0.14181483 & 1.410100 & 0.3667461 & 1.305212 &           \\\\\n",
       "\t 0.0230593101 &  7 & 0.11788575 & 1.475646 & 0.3811656 & 1.305212 &           \\\\\n",
       "\t 0.0111671232 &  8 & 0.09482644 & 1.436872 & 0.3588562 & 1.305212 &           \\\\\n",
       "\t 0.0106378429 &  9 & 0.08365932 & 1.460477 & 0.3606309 & 1.305212 &           \\\\\n",
       "\t 0.0059906109 & 10 & 0.07302147 & 1.446789 & 0.3613414 & 1.305212 &           \\\\\n",
       "\t 0.0056078921 & 11 & 0.06703086 & 1.447623 & 0.3611853 & 1.305212 &           \\\\\n",
       "\t 0.0021854944 & 12 & 0.06142297 & 1.439757 & 0.3607751 & 1.305212 &           \\\\\n",
       "\t 0.0014406052 & 13 & 0.05923748 & 1.431545 & 0.3606129 & 1.305212 &           \\\\\n",
       "\t 0.0002430680 & 14 & 0.05779687 & 1.429001 & 0.3606741 & 1.305212 &           \\\\\n",
       "\t 0.0001351029 & 15 & 0.05755380 & 1.428769 & 0.3606886 & 1.305212 &           \\\\\n",
       "\t 0.0000000000 & 16 & 0.05741870 & 1.428769 & 0.3606886 & 1.305212 &           \\\\\n",
       "\\end{tabular}\n"
      ],
      "text/markdown": [
       "\n",
       "A data.table: 16 × 7\n",
       "\n",
       "| CP &lt;dbl&gt; | nsplit &lt;dbl&gt; | rel.error &lt;dbl&gt; | xerror &lt;dbl&gt; | xstd &lt;dbl&gt; | xerror_cap &lt;dbl&gt; | eval &lt;chr&gt; |\n",
       "|---|---|---|---|---|---|---|\n",
       "| 0.3629629325 |  0 | 1.00000000 | 1.043951 | 0.2612611 | 1.305212 | min xerror |\n",
       "| 0.1654002424 |  1 | 0.63703707 | 1.144690 | 0.2883448 | 1.305212 | under cap  |\n",
       "| 0.0573014327 |  3 | 0.30623658 | 1.645859 | 0.3932568 | 1.305212 | <!----> |\n",
       "| 0.0553886654 |  4 | 0.24893515 | 1.574746 | 0.3885601 | 1.305212 | <!----> |\n",
       "| 0.0517316514 |  5 | 0.19354648 | 1.573788 | 0.3886082 | 1.305212 | <!----> |\n",
       "| 0.0239290842 |  6 | 0.14181483 | 1.410100 | 0.3667461 | 1.305212 | <!----> |\n",
       "| 0.0230593101 |  7 | 0.11788575 | 1.475646 | 0.3811656 | 1.305212 | <!----> |\n",
       "| 0.0111671232 |  8 | 0.09482644 | 1.436872 | 0.3588562 | 1.305212 | <!----> |\n",
       "| 0.0106378429 |  9 | 0.08365932 | 1.460477 | 0.3606309 | 1.305212 | <!----> |\n",
       "| 0.0059906109 | 10 | 0.07302147 | 1.446789 | 0.3613414 | 1.305212 | <!----> |\n",
       "| 0.0056078921 | 11 | 0.06703086 | 1.447623 | 0.3611853 | 1.305212 | <!----> |\n",
       "| 0.0021854944 | 12 | 0.06142297 | 1.439757 | 0.3607751 | 1.305212 | <!----> |\n",
       "| 0.0014406052 | 13 | 0.05923748 | 1.431545 | 0.3606129 | 1.305212 | <!----> |\n",
       "| 0.0002430680 | 14 | 0.05779687 | 1.429001 | 0.3606741 | 1.305212 | <!----> |\n",
       "| 0.0001351029 | 15 | 0.05755380 | 1.428769 | 0.3606886 | 1.305212 | <!----> |\n",
       "| 0.0000000000 | 16 | 0.05741870 | 1.428769 | 0.3606886 | 1.305212 | <!----> |\n",
       "\n"
      ],
      "text/plain": [
       "   CP           nsplit rel.error  xerror   xstd      xerror_cap eval      \n",
       "1  0.3629629325  0     1.00000000 1.043951 0.2612611 1.305212   min xerror\n",
       "2  0.1654002424  1     0.63703707 1.144690 0.2883448 1.305212   under cap \n",
       "3  0.0573014327  3     0.30623658 1.645859 0.3932568 1.305212             \n",
       "4  0.0553886654  4     0.24893515 1.574746 0.3885601 1.305212             \n",
       "5  0.0517316514  5     0.19354648 1.573788 0.3886082 1.305212             \n",
       "6  0.0239290842  6     0.14181483 1.410100 0.3667461 1.305212             \n",
       "7  0.0230593101  7     0.11788575 1.475646 0.3811656 1.305212             \n",
       "8  0.0111671232  8     0.09482644 1.436872 0.3588562 1.305212             \n",
       "9  0.0106378429  9     0.08365932 1.460477 0.3606309 1.305212             \n",
       "10 0.0059906109 10     0.07302147 1.446789 0.3613414 1.305212             \n",
       "11 0.0056078921 11     0.06703086 1.447623 0.3611853 1.305212             \n",
       "12 0.0021854944 12     0.06142297 1.439757 0.3607751 1.305212             \n",
       "13 0.0014406052 13     0.05923748 1.431545 0.3606129 1.305212             \n",
       "14 0.0002430680 14     0.05779687 1.429001 0.3606741 1.305212             \n",
       "15 0.0001351029 15     0.05755380 1.428769 0.3606886 1.305212             \n",
       "16 0.0000000000 16     0.05741870 1.428769 0.3606886 1.305212             "
      ]
     },
     "metadata": {},
     "output_type": "display_data"
    }
   ],
   "source": [
    "# code largely borrow from https://bookdown.org/mpfoley1973/data-sci/regression-tree.html\n",
    "library(dplyr)\n",
    "\n",
    "post_prune_tree <- function(tree, return_tree=FALSE) { \n",
    "\n",
    "    tab <- tree$cptable %>%\n",
    "           data.frame() %>%\n",
    "           mutate(min_xerror_idx = which.min(tree$cptable[, \"xerror\"]),\n",
    "                  rownum = row_number(),\n",
    "                  xerror_cap = tree$cptable[min_xerror_idx, \"xerror\"] + \n",
    "                     tree$cptable[min_xerror_idx, \"xstd\"],\n",
    "                  eval = case_when(rownum == min_xerror_idx ~ \"min xerror\",\n",
    "                                   xerror < xerror_cap ~ \"under cap\",\n",
    "                                   TRUE ~ \"\")) %>% select(-rownum, -min_xerror_idx) %>% as.data.table\n",
    "            \n",
    "    if (return_tree==FALSE) {\n",
    "        return(tab)\n",
    "    } else {\n",
    "        prune_cp <- tab[eval==\"under cap\"][1, CP]\n",
    "        return(prune(tree, cp=prune_cp))    \n",
    "    }\n",
    "\n",
    "}\n",
    "\n",
    "post_prune_diagnostics <- post_prune_tree(tree)\n",
    "post_prune_diagnostics"
   ]
  },
  {
   "cell_type": "markdown",
   "metadata": {},
   "source": [
    "#### Pruned Tree\n",
    "\n",
    "The post-pruned tree which only features one split."
   ]
  },
  {
   "cell_type": "code",
   "execution_count": 5,
   "metadata": {
    "ExecuteTime": {
     "end_time": "2021-03-10T23:08:59.332093Z",
     "start_time": "2021-03-10T23:08:59.243Z"
    }
   },
   "outputs": [
    {
     "data": {
      "image/png": "[encoded data removed]",
      "text/plain": [
       "plot without title"
      ]
     },
     "metadata": {
      "image/png": {
       "height": 698.7712,
       "width": 698.7712
      }
     },
     "output_type": "display_data"
    }
   ],
   "source": [
    "pruned_tree <- post_prune_tree(tree, return_tree=TRUE)\n",
    "plot(pruned_tree, compress = TRUE)\n",
    "text(pruned_tree, use.n = TRUE)"
   ]
  },
  {
   "cell_type": "markdown",
   "metadata": {},
   "source": [
    "## 1.3 Model Selection\n",
    "\n",
    "### Using LOOCV\n",
    "\n",
    "Note that the CV and post-pruning process only constrains to a given metaparameter `minsplit` and `maxdepth`. Setting smaller `minsplit` allows the model to identify idiocyncratic strctures present in a small number of samples. Setting larger `maxdepth` relaxes the constraints for tree growing - so the model can continue splitting as long as there is gain in R squared and as permitted by `minsplit`. We would like to repeat the LOOCV post-pruning process above for tuning these parameters. \n",
    "\n",
    "The best model we'd select is the single node - i.e. not having any tree structure at all and predict crime for any state at the sample average."
   ]
  },
  {
   "cell_type": "code",
   "execution_count": 8,
   "metadata": {
    "ExecuteTime": {
     "end_time": "2021-03-10T23:09:23.025732Z",
     "start_time": "2021-03-10T23:09:19.240Z"
    }
   },
   "outputs": [],
   "source": [
    "split_grid <- c(2:20)\n",
    "depth_grid <- c(2:20)\n",
    "\n",
    "CV_tab <- data.table()\n",
    "for (split in split_grid) {\n",
    "    for (depth in depth_grid) {\n",
    "        control <- rpart.control(cp=0, maxdepth=depth, minsplit=split, xval=nrow(crime_dta))\n",
    "        pre_prune_tree <- rpart(Crime ~ ., crime_dta, control=control)\n",
    "        pruned_tree <- post_prune_tree(pre_prune_tree, return_tree=TRUE)\n",
    "        CV_err <- pruned_tree$cptable[nrow(pruned_tree$cptable), \"xerror\"]\n",
    "        nsplit <- pruned_tree$cptable[nrow(pruned_tree$cptable), \"nsplit\"]\n",
    "        tmp_tab <- data.table(split=split, depth=depth, CV_err=CV_err, splits=nsplit)\n",
    "        CV_tab <- rbind(CV_tab, tmp_tab)\n",
    "    }\n",
    "}"
   ]
  },
  {
   "cell_type": "code",
   "execution_count": 9,
   "metadata": {
    "ExecuteTime": {
     "end_time": "2021-03-10T23:09:24.001943Z",
     "start_time": "2021-03-10T23:09:23.972Z"
    }
   },
   "outputs": [
    {
     "data": {
      "text/html": [
       "<table class=\"dataframe\">\n",
       "<caption>A data.table: 23 × 4</caption>\n",
       "<thead>\n",
       "\t<tr><th scope=col>split</th><th scope=col>depth</th><th scope=col>CV_err</th><th scope=col>splits</th></tr>\n",
       "\t<tr><th scope=col>&lt;int&gt;</th><th scope=col>&lt;int&gt;</th><th scope=col>&lt;dbl&gt;</th><th scope=col>&lt;dbl&gt;</th></tr>\n",
       "</thead>\n",
       "<tbody>\n",
       "\t<tr><td>11</td><td>20</td><td>1.043951</td><td>0</td></tr>\n",
       "\t<tr><td>12</td><td> 9</td><td>1.043951</td><td>0</td></tr>\n",
       "\t<tr><td>13</td><td> 2</td><td>1.043951</td><td>0</td></tr>\n",
       "\t<tr><td>13</td><td> 5</td><td>1.043951</td><td>0</td></tr>\n",
       "\t<tr><td>13</td><td> 9</td><td>1.043951</td><td>0</td></tr>\n",
       "\t<tr><td>13</td><td>17</td><td>1.043951</td><td>0</td></tr>\n",
       "\t<tr><td>13</td><td>19</td><td>1.043951</td><td>0</td></tr>\n",
       "\t<tr><td>14</td><td> 6</td><td>1.043951</td><td>0</td></tr>\n",
       "\t<tr><td>14</td><td> 9</td><td>1.043951</td><td>0</td></tr>\n",
       "\t<tr><td>14</td><td>10</td><td>1.043951</td><td>0</td></tr>\n",
       "\t<tr><td>14</td><td>12</td><td>1.043951</td><td>0</td></tr>\n",
       "\t<tr><td>14</td><td>17</td><td>1.043951</td><td>0</td></tr>\n",
       "\t<tr><td>14</td><td>19</td><td>1.043951</td><td>0</td></tr>\n",
       "\t<tr><td>15</td><td> 2</td><td>1.043951</td><td>0</td></tr>\n",
       "\t<tr><td>15</td><td>16</td><td>1.043951</td><td>0</td></tr>\n",
       "\t<tr><td>17</td><td> 2</td><td>1.043951</td><td>0</td></tr>\n",
       "\t<tr><td>17</td><td> 6</td><td>1.043951</td><td>0</td></tr>\n",
       "\t<tr><td>17</td><td>15</td><td>1.043951</td><td>0</td></tr>\n",
       "\t<tr><td>18</td><td> 4</td><td>1.043951</td><td>0</td></tr>\n",
       "\t<tr><td>18</td><td> 5</td><td>1.043951</td><td>0</td></tr>\n",
       "\t<tr><td>18</td><td>20</td><td>1.043951</td><td>0</td></tr>\n",
       "\t<tr><td>19</td><td> 5</td><td>1.043951</td><td>0</td></tr>\n",
       "\t<tr><td>20</td><td> 7</td><td>1.043951</td><td>0</td></tr>\n",
       "</tbody>\n",
       "</table>\n"
      ],
      "text/latex": [
       "A data.table: 23 × 4\n",
       "\\begin{tabular}{llll}\n",
       " split & depth & CV\\_err & splits\\\\\n",
       " <int> & <int> & <dbl> & <dbl>\\\\\n",
       "\\hline\n",
       "\t 11 & 20 & 1.043951 & 0\\\\\n",
       "\t 12 &  9 & 1.043951 & 0\\\\\n",
       "\t 13 &  2 & 1.043951 & 0\\\\\n",
       "\t 13 &  5 & 1.043951 & 0\\\\\n",
       "\t 13 &  9 & 1.043951 & 0\\\\\n",
       "\t 13 & 17 & 1.043951 & 0\\\\\n",
       "\t 13 & 19 & 1.043951 & 0\\\\\n",
       "\t 14 &  6 & 1.043951 & 0\\\\\n",
       "\t 14 &  9 & 1.043951 & 0\\\\\n",
       "\t 14 & 10 & 1.043951 & 0\\\\\n",
       "\t 14 & 12 & 1.043951 & 0\\\\\n",
       "\t 14 & 17 & 1.043951 & 0\\\\\n",
       "\t 14 & 19 & 1.043951 & 0\\\\\n",
       "\t 15 &  2 & 1.043951 & 0\\\\\n",
       "\t 15 & 16 & 1.043951 & 0\\\\\n",
       "\t 17 &  2 & 1.043951 & 0\\\\\n",
       "\t 17 &  6 & 1.043951 & 0\\\\\n",
       "\t 17 & 15 & 1.043951 & 0\\\\\n",
       "\t 18 &  4 & 1.043951 & 0\\\\\n",
       "\t 18 &  5 & 1.043951 & 0\\\\\n",
       "\t 18 & 20 & 1.043951 & 0\\\\\n",
       "\t 19 &  5 & 1.043951 & 0\\\\\n",
       "\t 20 &  7 & 1.043951 & 0\\\\\n",
       "\\end{tabular}\n"
      ],
      "text/markdown": [
       "\n",
       "A data.table: 23 × 4\n",
       "\n",
       "| split &lt;int&gt; | depth &lt;int&gt; | CV_err &lt;dbl&gt; | splits &lt;dbl&gt; |\n",
       "|---|---|---|---|\n",
       "| 11 | 20 | 1.043951 | 0 |\n",
       "| 12 |  9 | 1.043951 | 0 |\n",
       "| 13 |  2 | 1.043951 | 0 |\n",
       "| 13 |  5 | 1.043951 | 0 |\n",
       "| 13 |  9 | 1.043951 | 0 |\n",
       "| 13 | 17 | 1.043951 | 0 |\n",
       "| 13 | 19 | 1.043951 | 0 |\n",
       "| 14 |  6 | 1.043951 | 0 |\n",
       "| 14 |  9 | 1.043951 | 0 |\n",
       "| 14 | 10 | 1.043951 | 0 |\n",
       "| 14 | 12 | 1.043951 | 0 |\n",
       "| 14 | 17 | 1.043951 | 0 |\n",
       "| 14 | 19 | 1.043951 | 0 |\n",
       "| 15 |  2 | 1.043951 | 0 |\n",
       "| 15 | 16 | 1.043951 | 0 |\n",
       "| 17 |  2 | 1.043951 | 0 |\n",
       "| 17 |  6 | 1.043951 | 0 |\n",
       "| 17 | 15 | 1.043951 | 0 |\n",
       "| 18 |  4 | 1.043951 | 0 |\n",
       "| 18 |  5 | 1.043951 | 0 |\n",
       "| 18 | 20 | 1.043951 | 0 |\n",
       "| 19 |  5 | 1.043951 | 0 |\n",
       "| 20 |  7 | 1.043951 | 0 |\n",
       "\n"
      ],
      "text/plain": [
       "   split depth CV_err   splits\n",
       "1  11    20    1.043951 0     \n",
       "2  12     9    1.043951 0     \n",
       "3  13     2    1.043951 0     \n",
       "4  13     5    1.043951 0     \n",
       "5  13     9    1.043951 0     \n",
       "6  13    17    1.043951 0     \n",
       "7  13    19    1.043951 0     \n",
       "8  14     6    1.043951 0     \n",
       "9  14     9    1.043951 0     \n",
       "10 14    10    1.043951 0     \n",
       "11 14    12    1.043951 0     \n",
       "12 14    17    1.043951 0     \n",
       "13 14    19    1.043951 0     \n",
       "14 15     2    1.043951 0     \n",
       "15 15    16    1.043951 0     \n",
       "16 17     2    1.043951 0     \n",
       "17 17     6    1.043951 0     \n",
       "18 17    15    1.043951 0     \n",
       "19 18     4    1.043951 0     \n",
       "20 18     5    1.043951 0     \n",
       "21 18    20    1.043951 0     \n",
       "22 19     5    1.043951 0     \n",
       "23 20     7    1.043951 0     "
      ]
     },
     "metadata": {},
     "output_type": "display_data"
    }
   ],
   "source": [
    "CV_tab[which(CV_err==min(CV_err))]"
   ]
  },
  {
   "cell_type": "markdown",
   "metadata": {},
   "source": [
    "### Using K-fold CV\n",
    "\n",
    "If we're only doing a single run, we can only compare CV errors __across__ metaparameters __only for LOOCV__. We are still allowed to choose a $K$-fold CV to run the code, but it was found that the it has rather high variance - yielding high variation for each fixed metaparameter across different runs, thereby changing the selected models each time. Heterogeneity arises from variation of validation set partitions across metaparameters for each run so every set of metaparameter gets its own validation set - as `rpart` does not provide users' control over the validation set partition - so parameter sets with favorable training sets will have an advantage. \n",
    "\n",
    "A workaround here would be to have multiple runs for the model selection process. The idea is that with sufficient runs, we'd expect the the advantage of having assigned validation partition to average out. Even if we are able to fix the validation sets, we'd still benefit from doing mutliple runs. Because of the small data size, variations in training set partition can imply different orderings of CV errors across splits within each fixed parameter set.  \n",
    "\n",
    "Using a repeated 10-fold CV for 59 times, we see that:\n",
    " - 1-split models appear the most time\n",
    " - all selected models will require >10 `minsplit`\n",
    " - `maxdepth` was never binding\n",
    " \n",
    "We end up choosing a `minsplit` 20 (simplest model within chosen) and arbitrary `maxdepth`, with post-pruned 1 split. This is the post-pruned tree in section 1.2."
   ]
  },
  {
   "cell_type": "code",
   "execution_count": 36,
   "metadata": {
    "ExecuteTime": {
     "end_time": "2021-03-11T00:02:29.075383Z",
     "start_time": "2021-03-10T23:59:56.272Z"
    }
   },
   "outputs": [
    {
     "data": {
      "text/html": [
       "<table class=\"dataframe\">\n",
       "<caption>A data.table: 5 × 2</caption>\n",
       "<thead>\n",
       "\t<tr><th scope=col>nsplits</th><th scope=col>N</th></tr>\n",
       "\t<tr><th scope=col>&lt;dbl&gt;</th><th scope=col>&lt;int&gt;</th></tr>\n",
       "</thead>\n",
       "<tbody>\n",
       "\t<tr><td>3</td><td>11</td></tr>\n",
       "\t<tr><td>2</td><td>13</td></tr>\n",
       "\t<tr><td>1</td><td>22</td></tr>\n",
       "\t<tr><td>6</td><td> 3</td></tr>\n",
       "\t<tr><td>4</td><td> 1</td></tr>\n",
       "</tbody>\n",
       "</table>\n"
      ],
      "text/latex": [
       "A data.table: 5 × 2\n",
       "\\begin{tabular}{ll}\n",
       " nsplits & N\\\\\n",
       " <dbl> & <int>\\\\\n",
       "\\hline\n",
       "\t 3 & 11\\\\\n",
       "\t 2 & 13\\\\\n",
       "\t 1 & 22\\\\\n",
       "\t 6 &  3\\\\\n",
       "\t 4 &  1\\\\\n",
       "\\end{tabular}\n"
      ],
      "text/markdown": [
       "\n",
       "A data.table: 5 × 2\n",
       "\n",
       "| nsplits &lt;dbl&gt; | N &lt;int&gt; |\n",
       "|---|---|\n",
       "| 3 | 11 |\n",
       "| 2 | 13 |\n",
       "| 1 | 22 |\n",
       "| 6 |  3 |\n",
       "| 4 |  1 |\n",
       "\n"
      ],
      "text/plain": [
       "  nsplits N \n",
       "1 3       11\n",
       "2 2       13\n",
       "3 1       22\n",
       "4 6        3\n",
       "5 4        1"
      ]
     },
     "metadata": {},
     "output_type": "display_data"
    }
   ],
   "source": [
    "nested_tab <- data.table()\n",
    "set.seed(1234)\n",
    "\n",
    "for (i in 1:50) {\n",
    "    CV_tab <- data.table()\n",
    "    for (split in split_grid) {\n",
    "        for (depth in depth_grid) {\n",
    "            control <- rpart.control(cp=0, maxdepth=depth, minsplit=split, xval=10)\n",
    "            pre_prune_tree <- rpart(Crime ~ ., crime_dta, control=control)\n",
    "            pruned_tree <- post_prune_tree(pre_prune_tree, return_tree=TRUE)\n",
    "            CV_err <- pruned_tree$cptable[nrow(pruned_tree$cptable), \"xerror\"]\n",
    "            nsplit <- pruned_tree$cptable[nrow(pruned_tree$cptable), \"nsplit\"]\n",
    "            tmp_tab <- data.table(round=i, minsplit=split, maxdepth=depth, CV_err=CV_err, nsplits=nsplit)\n",
    "            CV_tab <- rbind(CV_tab, tmp_tab)\n",
    "        }\n",
    "    }\n",
    "    nested_tab <- rbind(nested_tab, CV_tab[which(CV_err==min(CV_err))])\n",
    "}\n",
    "\n",
    "nested_tab[, .N, by=.(nsplits)]"
   ]
  },
  {
   "cell_type": "code",
   "execution_count": 29,
   "metadata": {
    "ExecuteTime": {
     "end_time": "2021-03-10T23:32:59.236687Z",
     "start_time": "2021-03-10T23:32:59.152Z"
    }
   },
   "outputs": [
    {
     "data": {
      "image/png": "[encoded data removed]",
      "text/plain": [
       "plot without title"
      ]
     },
     "metadata": {
      "image/png": {
       "height": 698.7712,
       "width": 698.7712
      }
     },
     "output_type": "display_data"
    }
   ],
   "source": [
    "KCV_control <- rpart.control(cp=0, maxdepth=3, minsplit=20, xval=5)\n",
    "pre_prune_tree <- rpart(Crime ~ ., crime_dta, control=KCV_control)\n",
    "KCV_pruned_tree <- post_prune_tree(pre_prune_tree, return_tree=TRUE)\n",
    "\n",
    "plot(KCV_pruned_tree)\n",
    "text(KCV_pruned_tree, use.n = TRUE)"
   ]
  },
  {
   "cell_type": "code",
   "execution_count": 33,
   "metadata": {
    "ExecuteTime": {
     "end_time": "2021-03-10T23:51:17.746277Z",
     "start_time": "2021-03-10T23:51:17.568Z"
    }
   },
   "outputs": [
    {
     "data": {
      "image/png": "[encoded data removed]",
      "text/plain": [
       "plot without title"
      ]
     },
     "metadata": {
      "image/png": {
       "height": 698.7712,
       "width": 698.7712
      }
     },
     "output_type": "display_data"
    }
   ],
   "source": [
    "data.frame(Predicted = predict(KCV_pruned_tree), Actual = crime_dta[, Crime]) %>%\n",
    "   ggplot(aes(x = Actual, y = Predicted)) +\n",
    "   geom_point(alpha = 0.6, color = \"cadetblue\") +\n",
    "   geom_abline(intercept = 0, slope = 1, linetype = 2) +\n",
    "   labs(title = \"Crime CART, Predicted vs Actual\")"
   ]
  },
  {
   "cell_type": "markdown",
   "metadata": {},
   "source": [
    "## 2.1 Training Random Forest\n",
    "\n",
    "We will be using `randomForest` for training RF models in the data set. \n",
    "\n",
    "```R\n",
    "randomForest(formula, data=NULL, ..., subset, na.action=na.fail)\n",
    "```\n",
    "\n",
    "Some notable parameters:\n",
    "- `ntree`: Number of trees to grow. This should not be set to too small a number, to ensure that every input row gets predicted at least a few times.\n",
    "- `mtry`: Number of variables randomly sampled as candidates at each split. If there are $K$ features, a rule of thumb is to take $\\sqrt{K}$ for classification, and $\\frac{K}{3}$ for regression.\n",
    "- `nodesize`: Minimum size of terminal nodes. Setting this number larger causes smaller trees to be grown (and thus take less time). Note that the default values are different for classification (1) and regression (5).\n",
    "- `sampsize`: Bootstrap size.\n",
    "- `importance`: Logical value on whether importance of predictors should be assessed. Here the permutation feature importance is being used. \n",
    "- `nPerm`: Number of times the out-of-bag data (leftover samples in bootstrap sampling) are permuted per tree for assessing variable importance. Number larger than 1 gives slightly more stable estimate, but not very effective. Currently only implemented for regression.\n",
    "- `keep.inbag`: Logical value on whether an n by ntree matrix should be returned that keeps track of which samples are \"in-bag\" in which trees. To be accessed by `.$inbag`.\n",
    "\n",
    "Out-of-bag MSE and pseudo-R2 are returned as `.$mse` and `.$rsq`. Some notable methods under the package:\n",
    "- `plot()`: Plot the out-of-bag error rates or MSE of a randomForest object across the number of trees included in forest.\n",
    "- `predict)_`: Make predictions.\n",
    "- `importance()`: Table for variable importance measures for each feature. Definition of the importance will be discussed below.\n",
    "- `varImpPlot()`: Plot the permutation feature importance for each predictor.\n",
    "- `partialPlot()`: Partial dependence plot gives a graphical depiction of the marginal effect of a variable $x$ on $y$ implied by a random forest model.\n",
    "- `tuneRF()`: Built-in routine for tuning `mtry`.\n",
    "- `rfcv()`: Routine for using random forest to select features (see [here](https://stats.stackexchange.com/questions/233863/mtry-in-rfcv-function-in-randomforest-in-r) for an example of usage).\n",
    "\n",
    "As a starter, here's the trained random forest model under the default parameter values. We see that as the number of trees increased, the prediction power also increased in general."
   ]
  },
  {
   "cell_type": "code",
   "execution_count": 204,
   "metadata": {
    "ExecuteTime": {
     "end_time": "2021-03-11T04:59:58.152251Z",
     "start_time": "2021-03-11T04:59:58.036Z"
    }
   },
   "outputs": [
    {
     "data": {
      "image/png": "[encoded data removed]",
      "text/plain": [
       "Plot with title \"Default Parameters. MSE = 88787.4500405156\""
      ]
     },
     "metadata": {
      "image/png": {
       "height": 698.7712,
       "width": 698.7712
      }
     },
     "output_type": "display_data"
    }
   ],
   "source": [
    "library(caret)\n",
    "library(randomForest)\n",
    "\n",
    "RF0 <- randomForest(Crime ~ ., crime_dta)\n",
    "plot(RF0, main=paste(\"Default Parameters. MSE =\", RF0$mse[length(RF0$mse)]))"
   ]
  },
  {
   "cell_type": "code",
   "execution_count": 205,
   "metadata": {
    "ExecuteTime": {
     "end_time": "2021-03-11T04:59:58.763758Z",
     "start_time": "2021-03-11T04:59:58.594Z"
    }
   },
   "outputs": [
    {
     "data": {
      "image/png": "[encoded data removed]",
      "text/plain": [
       "plot without title"
      ]
     },
     "metadata": {
      "image/png": {
       "height": 698.7712,
       "width": 698.7712
      }
     },
     "output_type": "display_data"
    }
   ],
   "source": [
    "data.frame(Predicted = predict(RF0), Actual = crime_dta[, Crime]) %>%\n",
    "   ggplot(aes(x = Actual, y = Predicted)) +\n",
    "   geom_point(alpha = 0.6, color = \"cadetblue\") +\n",
    "   geom_abline(intercept = 0, slope = 1, linetype = 2) +\n",
    "   labs(title = \"Crime RF, Predicted vs Actual\")"
   ]
  },
  {
   "cell_type": "markdown",
   "metadata": {},
   "source": [
    "## 2.2 Model Selection\n",
    "\n",
    "Performance of the algorithm is affected by the parameters. For example, having more `ntrees` will create a efficiency-accuracy tradeoff, with the small data at hand we should be able to fit as many trees as needed. As seen from the MSE graph above around 100 trees would suffice. Having less `mtry` induces diversity among the trees, but at a performance tradeoff. Having smaller `nodesize` allows the trees to grow deeper, but at the expense of overfitting.\n",
    "\n",
    "We would like to do LOOCV and a 10-fold CV (repeated 5 times) for the tuning `ntrees`, `mtry`, and `nodesize`. Because of the lack of built-in CV structures, we will use relevant facilities in the `caret` package as demonstrated in [here](https://rpubs.com/phamdinhkhanh/389752) and [here](https://topepo.github.io/caret/model-training-and-tuning.html).\n",
    "\n",
    "We end up choosing models with:\n",
    "- LOOCV: 100 trees, 2 observations to split, 3 features\n",
    "- 10-fold CV: 500 trees, 2 observations to split, 3 features\n",
    "\n",
    "In either case, we have `nodesize` and `mtry` at 2 and 3. Regarding the number of trees, Leo Breiman, the author of this algorithm in the [official page of this algorithm](https://www.stat.berkeley.edu/~breiman/RandomForests/cc_home.htm#remarks), random forest does not overfit, and you can use as many trees as you want. We'll take 500 trees. (Note: in [this thread](https://stats.stackexchange.com/questions/36165/does-the-optimal-number-of-trees-in-a-random-forest-depend-on-the-number-of-pred/36183) it was pointed out that one paper in the literature found overfitting with too many trees. For the purpose of this assignment, we acknowledge this fact without further investigation.)"
   ]
  },
  {
   "cell_type": "code",
   "execution_count": 186,
   "metadata": {
    "ExecuteTime": {
     "end_time": "2021-03-11T04:15:45.497460Z",
     "start_time": "2021-03-11T04:09:57.514Z"
    }
   },
   "outputs": [
    {
     "data": {
      "text/html": [
       "<table class=\"dataframe\">\n",
       "<caption>A data.table: 15 × 3</caption>\n",
       "<thead>\n",
       "\t<tr><th scope=col>model</th><th scope=col>mtry</th><th scope=col>RMSE</th></tr>\n",
       "\t<tr><th scope=col>&lt;chr&gt;</th><th scope=col>&lt;int&gt;</th><th scope=col>&lt;dbl&gt;</th></tr>\n",
       "</thead>\n",
       "<tbody>\n",
       "\t<tr><td>100 2  </td><td>3</td><td>280.9644</td></tr>\n",
       "\t<tr><td>1000 2 </td><td>6</td><td>283.4495</td></tr>\n",
       "\t<tr><td>500 2  </td><td>6</td><td>284.8575</td></tr>\n",
       "\t<tr><td>1000 5 </td><td>5</td><td>286.5803</td></tr>\n",
       "\t<tr><td>100 5  </td><td>3</td><td>287.5580</td></tr>\n",
       "\t<tr><td>100 10 </td><td>3</td><td>287.6619</td></tr>\n",
       "\t<tr><td>500 5  </td><td>4</td><td>287.6957</td></tr>\n",
       "\t<tr><td>500 10 </td><td>3</td><td>294.0733</td></tr>\n",
       "\t<tr><td>1000 10</td><td>4</td><td>294.1511</td></tr>\n",
       "\t<tr><td>100 15 </td><td>6</td><td>297.2707</td></tr>\n",
       "\t<tr><td>500 15 </td><td>3</td><td>303.2921</td></tr>\n",
       "\t<tr><td>1000 15</td><td>5</td><td>303.8613</td></tr>\n",
       "\t<tr><td>100 20 </td><td>4</td><td>306.0454</td></tr>\n",
       "\t<tr><td>500 20 </td><td>3</td><td>307.4792</td></tr>\n",
       "\t<tr><td>1000 20</td><td>3</td><td>308.6499</td></tr>\n",
       "</tbody>\n",
       "</table>\n"
      ],
      "text/latex": [
       "A data.table: 15 × 3\n",
       "\\begin{tabular}{lll}\n",
       " model & mtry & RMSE\\\\\n",
       " <chr> & <int> & <dbl>\\\\\n",
       "\\hline\n",
       "\t 100 2   & 3 & 280.9644\\\\\n",
       "\t 1000 2  & 6 & 283.4495\\\\\n",
       "\t 500 2   & 6 & 284.8575\\\\\n",
       "\t 1000 5  & 5 & 286.5803\\\\\n",
       "\t 100 5   & 3 & 287.5580\\\\\n",
       "\t 100 10  & 3 & 287.6619\\\\\n",
       "\t 500 5   & 4 & 287.6957\\\\\n",
       "\t 500 10  & 3 & 294.0733\\\\\n",
       "\t 1000 10 & 4 & 294.1511\\\\\n",
       "\t 100 15  & 6 & 297.2707\\\\\n",
       "\t 500 15  & 3 & 303.2921\\\\\n",
       "\t 1000 15 & 5 & 303.8613\\\\\n",
       "\t 100 20  & 4 & 306.0454\\\\\n",
       "\t 500 20  & 3 & 307.4792\\\\\n",
       "\t 1000 20 & 3 & 308.6499\\\\\n",
       "\\end{tabular}\n"
      ],
      "text/markdown": [
       "\n",
       "A data.table: 15 × 3\n",
       "\n",
       "| model &lt;chr&gt; | mtry &lt;int&gt; | RMSE &lt;dbl&gt; |\n",
       "|---|---|---|\n",
       "| 100 2   | 3 | 280.9644 |\n",
       "| 1000 2  | 6 | 283.4495 |\n",
       "| 500 2   | 6 | 284.8575 |\n",
       "| 1000 5  | 5 | 286.5803 |\n",
       "| 100 5   | 3 | 287.5580 |\n",
       "| 100 10  | 3 | 287.6619 |\n",
       "| 500 5   | 4 | 287.6957 |\n",
       "| 500 10  | 3 | 294.0733 |\n",
       "| 1000 10 | 4 | 294.1511 |\n",
       "| 100 15  | 6 | 297.2707 |\n",
       "| 500 15  | 3 | 303.2921 |\n",
       "| 1000 15 | 5 | 303.8613 |\n",
       "| 100 20  | 4 | 306.0454 |\n",
       "| 500 20  | 3 | 307.4792 |\n",
       "| 1000 20 | 3 | 308.6499 |\n",
       "\n"
      ],
      "text/plain": [
       "   model   mtry RMSE    \n",
       "1  100 2   3    280.9644\n",
       "2  1000 2  6    283.4495\n",
       "3  500 2   6    284.8575\n",
       "4  1000 5  5    286.5803\n",
       "5  100 5   3    287.5580\n",
       "6  100 10  3    287.6619\n",
       "7  500 5   4    287.6957\n",
       "8  500 10  3    294.0733\n",
       "9  1000 10 4    294.1511\n",
       "10 100 15  6    297.2707\n",
       "11 500 15  3    303.2921\n",
       "12 1000 15 5    303.8613\n",
       "13 100 20  4    306.0454\n",
       "14 500 20  3    307.4792\n",
       "15 1000 20 3    308.6499"
      ]
     },
     "metadata": {},
     "output_type": "display_data"
    }
   ],
   "source": [
    "tunegrid <- expand.grid(.mtry = c(2:15))\n",
    "\n",
    "# LOOCV\n",
    "seed <- 123\n",
    "control <- trainControl(method = 'LOOCV',\n",
    "                        number = 1,\n",
    "                        # seed = as.list(rep(seed,nrow(crime_dta))),\n",
    "                        search = 'grid')\n",
    "\n",
    "ntree_grid <- c(100,500,1000)\n",
    "nodesize_grid <- c(2,5,10,15,20)\n",
    "modellist <- list()\n",
    "\n",
    "for (ntree in ntree_grid){\n",
    "    for (nodesize in nodesize_grid) {\n",
    "      set.seed(seed)\n",
    "      fit <- train(Crime~.,\n",
    "                   data = crime_dta,\n",
    "                   method = 'rf',\n",
    "                   metric = 'mse',\n",
    "                   tuneGrid = tunegrid,\n",
    "                   trControl = control,\n",
    "                   ntree = ntree,\n",
    "                   nodesize = nodesize)\n",
    "      key <- paste(ntree, nodesize)\n",
    "      modellist[[key]] <- fit\n",
    "    }\n",
    "}\n",
    "\n",
    "get_model <- function(x) {\n",
    "    tab <- modellist[[x]]$results %>% data.table\n",
    "    best_mod <- tab[which.min(RMSE)]\n",
    "    res <- data.table(model=x, mtry=best_mod[, mtry], RMSE=best_mod[, RMSE])\n",
    "}\n",
    "\n",
    "res <- lapply(names(modellist), get_model) %>% rbindlist\n",
    "res[order(RMSE)]"
   ]
  },
  {
   "cell_type": "markdown",
   "metadata": {},
   "source": [
    "#### 10-fold CV results\n",
    "\n",
    "Note that R Squared is minimized at `ntree`=500 and `nodesize`=2. Further inspection in the result indicates `mtry`=3 (see below)."
   ]
  },
  {
   "cell_type": "code",
   "execution_count": 188,
   "metadata": {
    "ExecuteTime": {
     "end_time": "2021-03-11T04:38:46.261649Z",
     "start_time": "2021-03-11T04:38:46.234Z"
    }
   },
   "outputs": [
    {
     "data": {
      "text/plain": [
       "\n",
       "Call:\n",
       "summary.resamples(object = results)\n",
       "\n",
       "Models: 100 2, 100 5, 100 10, 100 15, 100 20, 500 2, 500 5, 500 10, 500 15, 500 20, 1000 2, 1000 5, 1000 10, 1000 15, 1000 20 \n",
       "Number of resamples: 50 \n",
       "\n",
       "MAE \n",
       "            Min.  1st Qu.   Median     Mean  3rd Qu.     Max. NA's\n",
       "100 2   58.35800 148.1451 206.2933 206.1749 248.4681 358.2262    0\n",
       "100 5   57.72717 157.2054 202.3856 208.7217 261.1591 343.6686    0\n",
       "100 10  54.38939 146.2770 214.7113 211.3349 272.9939 351.2913    0\n",
       "100 15  54.61732 174.4790 218.9753 222.1800 273.3591 394.7073    0\n",
       "100 20  69.07359 168.2678 235.8687 227.7576 282.6256 387.5877    0\n",
       "500 2   60.28420 154.7207 207.4963 205.4729 256.2047 344.1460    0\n",
       "500 5   65.14705 156.5160 203.6507 207.1166 257.9154 333.6759    0\n",
       "500 10  66.72040 158.1772 211.2238 214.9898 265.4611 353.2552    0\n",
       "500 15  68.41500 159.5634 220.1608 221.5986 283.0853 363.4512    0\n",
       "500 20  66.40811 167.4614 230.4967 229.1063 283.9486 379.0307    0\n",
       "1000 2  59.91880 151.5254 206.4641 206.0336 259.4923 340.3967    0\n",
       "1000 5  66.66844 153.5179 206.5571 207.8803 265.4204 338.8914    0\n",
       "1000 10 66.94042 160.6131 212.1339 215.3359 268.4042 347.8383    0\n",
       "1000 15 63.06345 156.4529 219.9750 220.9320 276.8441 359.3578    0\n",
       "1000 20 64.05686 167.6943 230.9999 229.1659 280.4192 386.6536    0\n",
       "\n",
       "RMSE \n",
       "            Min.  1st Qu.   Median     Mean  3rd Qu.     Max. NA's\n",
       "100 2   76.19138 221.5029 276.8408 265.2862 318.9248 447.4773    0\n",
       "100 5   64.59544 229.2654 286.1730 268.9852 336.4490 421.2220    0\n",
       "100 10  73.71038 215.2523 285.6104 276.1177 345.5266 462.2307    0\n",
       "100 15  72.21311 233.2201 292.1224 284.5009 342.6903 483.8577    0\n",
       "100 20  89.19931 225.8378 302.5076 291.7311 364.1953 476.4218    0\n",
       "500 2   77.12098 214.3946 273.0475 265.5956 329.6905 455.3700    0\n",
       "500 5   76.40483 220.4590 279.5602 267.8244 332.6736 446.6977    0\n",
       "500 10  84.34515 214.8090 280.6456 276.2750 334.4646 477.9191    0\n",
       "500 15  81.18328 218.4590 287.8783 283.3042 359.3455 481.0535    0\n",
       "500 20  86.33215 228.3764 301.2773 291.2183 358.8457 497.6180    0\n",
       "1000 2  72.38438 214.2305 272.2175 266.4489 330.6006 463.7005    0\n",
       "1000 5  78.28115 213.6656 277.7269 269.1892 332.3097 455.5502    0\n",
       "1000 10 81.55614 212.7804 282.4801 276.3938 337.9331 478.7092    0\n",
       "1000 15 77.66587 219.6499 287.9527 282.9790 353.3105 478.0083    0\n",
       "1000 20 83.20031 227.4585 296.5575 291.2156 361.8077 492.0333    0\n",
       "\n",
       "Rsquared \n",
       "                Min.   1st Qu.    Median      Mean   3rd Qu.      Max. NA's\n",
       "100 2   0.0180161416 0.3872695 0.6076698 0.6192438 0.9152535 0.9998079    0\n",
       "100 5   0.0307708213 0.4229270 0.6564800 0.6170310 0.8863342 0.9750015    0\n",
       "100 10  0.0077381463 0.3426595 0.6116253 0.5893698 0.8800506 0.9956958    0\n",
       "100 15  0.0001296462 0.3406661 0.5503598 0.5718175 0.8771914 0.9984871    0\n",
       "100 20  0.0000494147 0.3116019 0.6106632 0.5627483 0.8679274 0.9995862    0\n",
       "500 2   0.0303053307 0.4333184 0.5961694 0.6287804 0.8982723 0.9805186    0\n",
       "500 5   0.0589752630 0.4181537 0.5960801 0.6245164 0.9033886 0.9824124    0\n",
       "500 10  0.0192941402 0.3659692 0.5926700 0.5966442 0.8922392 0.9983702    0\n",
       "500 15  0.0017810027 0.3410707 0.5584236 0.5818577 0.8688365 0.9989483    0\n",
       "500 20  0.0002952819 0.2979219 0.5256151 0.5532770 0.8555095 0.9991764    0\n",
       "1000 2  0.0323209488 0.4336172 0.5927802 0.6249298 0.8913485 0.9916944    0\n",
       "1000 5  0.0637952887 0.4255839 0.5961662 0.6204390 0.9059026 0.9946044    0\n",
       "1000 10 0.0185667925 0.3734572 0.6023267 0.5974314 0.9019157 0.9983487    0\n",
       "1000 15 0.0036859604 0.3276651 0.5678666 0.5818983 0.8740529 0.9954933    0\n",
       "1000 20 0.0001272687 0.2834464 0.5379132 0.5535581 0.8610962 0.9998468    0\n"
      ]
     },
     "metadata": {},
     "output_type": "display_data"
    }
   ],
   "source": [
    "# 10-fold CV\n",
    "seed <- 123\n",
    "KCV_control <- trainControl(method = 'repeatedcv',\n",
    "                        number = 10,\n",
    "                        repeats = 5,\n",
    "                        # seed = as.list(rep(seed,nrow(crime_dta))),\n",
    "                        search = 'grid')\n",
    "\n",
    "for (ntree in ntree_grid){\n",
    "    for (nodesize in nodesize_grid) {\n",
    "      set.seed(seed)\n",
    "      fit <- train(Crime~.,\n",
    "                   data = crime_dta,\n",
    "                   method = 'rf',\n",
    "                   metric = 'mse',\n",
    "                   tuneGrid = tunegrid,\n",
    "                   trControl = KCV_control,\n",
    "                   ntree = ntree,\n",
    "                   nodesize = nodesize)\n",
    "      key <- paste(ntree, nodesize)\n",
    "      modellist[[key]] <- fit\n",
    "    }\n",
    "}\n",
    "\n",
    "#Compare results\n",
    "results <- resamples(modellist)\n",
    "summary(results)"
   ]
  },
  {
   "cell_type": "code",
   "execution_count": 192,
   "metadata": {
    "ExecuteTime": {
     "end_time": "2021-03-11T04:43:56.448473Z",
     "start_time": "2021-03-11T04:43:56.426Z"
    }
   },
   "outputs": [
    {
     "data": {
      "text/plain": [
       "Random Forest \n",
       "\n",
       "47 samples\n",
       "15 predictors\n",
       "\n",
       "No pre-processing\n",
       "Resampling: Cross-Validated (10 fold, repeated 5 times) \n",
       "Summary of sample sizes: 42, 42, 42, 42, 42, 44, ... \n",
       "Resampling results across tuning parameters:\n",
       "\n",
       "  mtry  RMSE      Rsquared   MAE     \n",
       "   2    268.9891  0.6273569  209.5395\n",
       "   3    265.5956  0.6287804  205.4729\n",
       "   4    267.7912  0.6212190  205.0473\n",
       "   5    267.5044  0.6158869  204.7332\n",
       "   6    268.8467  0.6100712  205.9142\n",
       "   7    271.2848  0.6147168  207.2682\n",
       "   8    270.8581  0.6067109  208.0100\n",
       "   9    272.1794  0.6011557  209.7031\n",
       "  10    275.9495  0.5920464  211.4823\n",
       "  11    277.8157  0.5873282  214.6863\n",
       "  12    277.5751  0.5951192  213.1284\n",
       "  13    276.6496  0.5885748  213.1184\n",
       "  14    279.1100  0.5871404  214.3438\n",
       "  15    279.9499  0.5848206  215.5169\n",
       "\n",
       "RMSE was used to select the optimal model using the smallest value.\n",
       "The final value used for the model was mtry = 3."
      ]
     },
     "metadata": {},
     "output_type": "display_data"
    }
   ],
   "source": [
    "modellist[[\"500 2\"]]"
   ]
  },
  {
   "cell_type": "markdown",
   "metadata": {},
   "source": [
    "## 3. Qualitative Analysis\n",
    "\n",
    "It would be straightforward to analyze the selected CART: `Po1` the police expenditure in 1960 will suffice to explain the crime rate in the same year. We should note that, however, the MSE for a linear regression model with heuristic variable selection scheme had LOOCV around 70,000 which is significantly better than the CART - so we should take this conclusion with a grain of salt.\n",
    "\n",
    "For random forest even though it is often noted for its lack of direct interpretability, there are still tools available for qualitative analysis. The permutation importance for features will be one. According to [this](https://towardsdatascience.com/explaining-feature-importance-by-example-of-a-random-forest-d9166011959e) medium post on feature importance, it is computed as follows:\n",
    "\n",
    "1. Train the baseline model and record the score (accuracy/R Squared/other metric of importance) for the out-of-bag set. \n",
    "2. Re-shuffle values from one feature in the selected dataset, pass the dataset to the model again to obtain predictions and calculate the metric for this modified dataset. The feature importance is the difference between the benchmark score and the one from the modified (permuted) dataset.\n",
    "3. Repeat step 2 for another feature.\n",
    "\n",
    "Caveat: It was noted that the difference between benchmark and the permuted dataset in step 2 [only involves trees that used that particular feature](https://medium.com/@azuranski/permutation-feature-importance-in-r-randomforest-26fd8bc7a569) - which deviates from the formal definition.\n",
    "\n",
    "### Permutation Feature Importance Plot\n",
    "\n",
    "We see that `Po1` and `Po2` are the most important. Again, this is very suspicious because we have seen `Po1` and `Po2` highly correlated, so if any of them is the most important feature, the other should not - in a sense that the other value is being controlled for (_ceteris paribus_). In fact, it is [warned in the data scientist community](https://towardsdatascience.com/stop-permuting-features-c1412e31b63f) that permutation importance has several problems, especially when working with correlated features. Scholars even urged, [\"Please Stop Permuting Features: An Explanation and Alternatives\"](https://towardsdatascience.com/stop-permuting-features-c1412e31b63f). \n",
    "\n",
    "Another way to evaluate feature importance mentioned in [the post above](https://towardsdatascience.com/explaining-feature-importance-by-example-of-a-random-forest-d9166011959e) is to consider the change in accuracy metric between the benchmark, and a dataset that has that particular feature dropped. We acknowledge this fact without implementation."
   ]
  },
  {
   "cell_type": "code",
   "execution_count": 203,
   "metadata": {
    "ExecuteTime": {
     "end_time": "2021-03-11T04:53:19.401767Z",
     "start_time": "2021-03-11T04:53:19.274Z"
    }
   },
   "outputs": [
    {
     "data": {
      "image/png": "[encoded data removed]",
      "text/plain": [
       "Plot with title \"Feature Importance\""
      ]
     },
     "metadata": {
      "image/png": {
       "height": 698.7712,
       "width": 698.7712
      }
     },
     "output_type": "display_data"
    }
   ],
   "source": [
    "set.seed(seed)\n",
    "RF2 <- randomForest(Crime ~ ., crime_dta, ntrees=500, nodesize=2, mtry=3)\n",
    "\n",
    "varImpPlot(RF2, main=\"Feature Importance\")"
   ]
  },
  {
   "cell_type": "code",
   "execution_count": 210,
   "metadata": {
    "ExecuteTime": {
     "end_time": "2021-03-11T05:06:53.023527Z",
     "start_time": "2021-03-11T05:06:52.852Z"
    }
   },
   "outputs": [
    {
     "data": {
      "image/png": "[encoded data removed]",
      "text/plain": [
       "plot without title"
      ]
     },
     "metadata": {
      "image/png": {
       "height": 698.7712,
       "width": 698.7712
      }
     },
     "output_type": "display_data"
    }
   ],
   "source": [
    "data.frame(Predicted = predict(RF2), Actual = crime_dta[, Crime]) %>%\n",
    "   ggplot(aes(x = Actual, y = Predicted)) +\n",
    "   geom_point(alpha = 0.6, color = \"cadetblue\") +\n",
    "   geom_abline(intercept = 0, slope = 1, linetype = 2) +\n",
    "   labs(title = \"Selected Crime RF, Predicted vs Actual\")"
   ]
  },
  {
   "cell_type": "markdown",
   "metadata": {},
   "source": [
    "# Question 10.2\n",
    "\n",
    "Describe a situation or problem from your job, everyday life, current events, etc., for which a logistic regression model would be appropriate. List some (up to 5) predictors that you might use."
   ]
  },
  {
   "cell_type": "markdown",
   "metadata": {},
   "source": [
    "# Answer to 10.2\n",
    "\n",
    "In the reference article, it was noted that in-game purchase decisions for players are fitted by logistic regressions. Being a mobile gamer myself, I can relate to the need of modeling - because most mobile games are essentially free, a machine for learning the preference for players will be vital to capitalize large player networks, by converting free-to-play players to pay-to-win players and to publish attractive contents keep them.\n",
    "\n",
    "A logistic regression in this context could be denominated in each player (what's P(buy|player and product characteristic) for each player) and then the expected profits can be computed by summing expected profits (price $\\times$ P(buy)) across the player base. This will involve a training data with a pool of sampled players (converted and non-converted) with a binary response of purchase. Alternatively, the regression can be a panel for each product, showing the aggregated characteristics for players and the product characteristics over a period, say, a day. The latter is faster to run as it involes less data but sacrificed correlation between buyers' characteristics and product characteristics. \n",
    "\n",
    "We consider the first type: player-based logistic regerssion on P(buy). I think the following predictor would make sense:\n",
    "- __Exposure to advertising campaign__ - tracking whether player converted from an ad, or was exposed to any promotion materials.\n",
    "- __Historical behavior__ - whether the player had made a purchase previously, or hours spent playing.\n",
    "- __Network variables__ - whether the player likes to play with other players (PVP), or just built-in events (PVE). Whether their peers made purchases or not etc.\n",
    "- __Product characteristcs__ - product style, could require domain specifc knowledge, e.g. appeals of characters (flags like cool, cute etc), price of product.\n",
    "- __Time-specific variables__ - would be useful to control for punctual events such as Christmas, summer breaks. Interact with other predictors to capture change of preference.\n",
    "\n",
    "Reference: [Active Wizards](https://activewizards.com/blog/5-real-world-examples-of-logistic-regression-application)"
   ]
  },
  {
   "cell_type": "markdown",
   "metadata": {},
   "source": [
    "# Question 10.3\n",
    "\n",
    "1.\tUsing the GermanCredit data set `germancredit.txt` from http://archive.ics.uci.edu/ml/machine-learning-databases/statlog/german / (description at http://archive.ics.uci.edu/ml/datasets/Statlog+%28German+Credit+Data%29 ), use logistic regression to find a good predictive model for whether credit applicants are good credit risks or not.  Show your model (factors used and their coefficients), the software output, and the quality of fit.  You can use the `glm` function in R. To get a logistic regression (logit) model on data where the response is either zero or one, use family=binomial(link=”logit”) in your glm function call.\n",
    "\n",
    "2.\tBecause the model gives a result between 0 and 1, it requires setting a threshold probability to separate between \"good\" and \"bad\" answers.  In this data set, they estimate that incorrectly identifying a bad customer as good, is 5 times worse than incorrectly classifying a good customer as bad.  Determine a good threshold probability based on your model.\n"
   ]
  },
  {
   "cell_type": "markdown",
   "metadata": {},
   "source": [
    "# Answers to 10.3"
   ]
  },
  {
   "cell_type": "markdown",
   "metadata": {},
   "source": [
    "## 1.1 Cleaning Data\n",
    "\n",
    "This dataset classifies people described by a set of attributes as good or bad credit risks. There are a total of 21 attributes in the dataset (copied from [here](https://rpubs.com/Rohit_Bhaya/388435)). Their descriptions and details have been tabulated below:\n",
    "\n",
    "- Status of existing checking account.\n",
    "- Credit duration in months\n",
    "- Credit history\n",
    "- Purpose\n",
    "- Credit amount\n",
    "- Savings account/bonds\n",
    "- Present employment since\n",
    "- Installment rate in percentage of disposable income\n",
    "- Personal status and sex\n",
    "- Other debtors / guarantors\n",
    "- Present residence since\n",
    "- Property\n",
    "- Age in years\n",
    "- Other installment plans\n",
    "- Housing Status\n",
    "- Number of existing credits at this bank\n",
    "- Job Category\n",
    "- Number of people being liable to provide maintenance for\n",
    "- Registered Telephone\n",
    "- Foreign worker\n",
    "\n",
    "I'll first change the variable names, then encode the categorical features with meaningful strings."
   ]
  },
  {
   "cell_type": "code",
   "execution_count": 362,
   "metadata": {
    "ExecuteTime": {
     "end_time": "2021-03-11T07:26:01.165359Z",
     "start_time": "2021-03-11T07:26:01.007Z"
    }
   },
   "outputs": [],
   "source": [
    "credit_dta <- fread('./hw7/germancredit.txt')\n",
    "names(credit_dta) <- c('chk_acct',\n",
    "                       'credit_dur',\n",
    "                       'credit_hist',\n",
    "                       'purpose',\n",
    "                       'credit_amt',\n",
    "                       'sav_acct',\n",
    "                       'employ_since',\n",
    "                       'instl_rate',\n",
    "                       'sex_marriage',\n",
    "                       'debtor_guarantor',\n",
    "                       'reside_since',\n",
    "                       'property',\n",
    "                       'age',\n",
    "                       'other_instl',\n",
    "                       'housing',\n",
    "                       'n_credits',\n",
    "                       'job_cat',\n",
    "                       'n_liable_ppl',\n",
    "                       'reg_phone',\n",
    "                       'foreign',\n",
    "                       'credibility')\n",
    "\n",
    "credit_dta[, credibility := credibility-1]\n",
    "credit_dta[, reg_phone:=as.numeric(reg_phone=='A192')]\n",
    "credit_dta[, foreign:=as.numeric(foreign=='A201')]\n",
    "\n",
    "credit_dta[chk_acct=='A11', chk_acct:='Neg']\n",
    "credit_dta[chk_acct=='A12', chk_acct:='<200']\n",
    "credit_dta[chk_acct=='A13', chk_acct:='>=200']\n",
    "credit_dta[chk_acct=='A14', chk_acct:='None']\n",
    "credit_dta[credit_hist=='A30', credit_hist:='all_duly']\n",
    "credit_dta[credit_hist=='A31', credit_hist:='bank_duly']\n",
    "credit_dta[credit_hist=='A32', credit_hist:='till_now']\n",
    "credit_dta[credit_hist=='A33', credit_hist:='delays']\n",
    "credit_dta[credit_hist=='A34', credit_hist:='critical']\n",
    "credit_dta[purpose=='A40', purpose:='new_car']\n",
    "credit_dta[purpose=='A41', purpose:='used_car']\n",
    "credit_dta[purpose=='A42', purpose:='furn']\n",
    "credit_dta[purpose=='A43', purpose:='radio_TV']\n",
    "credit_dta[purpose=='A44', purpose:='appliances']\n",
    "credit_dta[purpose=='A45', purpose:='repairs']\n",
    "credit_dta[purpose=='A46', purpose:='edu']\n",
    "credit_dta[purpose=='A47', purpose:='vacation']\n",
    "credit_dta[purpose=='A48', purpose:='retraining']\n",
    "credit_dta[purpose=='A49', purpose:='business']\n",
    "credit_dta[purpose=='A50', purpose:='others']\n",
    "credit_dta[sav_acct=='A61', sav_acct:='<100']\n",
    "credit_dta[sav_acct=='A62', sav_acct:='<500']\n",
    "credit_dta[sav_acct=='A63', sav_acct:='<1000']\n",
    "credit_dta[sav_acct=='A64', sav_acct:='>=1000']\n",
    "credit_dta[sav_acct=='A65', sav_acct:='None']\n",
    "credit_dta[employ_since=='A71', employ_since:='unemployed']\n",
    "credit_dta[employ_since=='A72', employ_since:='<1']\n",
    "credit_dta[employ_since=='A73', employ_since:='<4']\n",
    "credit_dta[employ_since=='A74', employ_since:='<7']\n",
    "credit_dta[employ_since=='A75', employ_since:='>=7']\n",
    "credit_dta[sex_marriage=='A91', sex_marriage:='M_div']\n",
    "credit_dta[sex_marriage=='A92', sex_marriage:='F_div']\n",
    "credit_dta[sex_marriage=='A93', sex_marriage:='M_single']\n",
    "credit_dta[sex_marriage=='A94', sex_marriage:='M_married']\n",
    "credit_dta[sex_marriage=='A95', sex_marriage:='F_single']\n",
    "credit_dta[debtor_guarantor=='A101', debtor_guarantor:='none']\n",
    "credit_dta[debtor_guarantor=='A102', debtor_guarantor:='co-applicant']\n",
    "credit_dta[debtor_guarantor=='A103', debtor_guarantor:='guarantor']\n",
    "credit_dta[property=='A121', property:='real_est']\n",
    "credit_dta[property=='A122', property:='soc_sav']\n",
    "credit_dta[property=='A123', property:='car']\n",
    "credit_dta[property=='A124', property:='None']\n",
    "credit_dta[other_instl=='A141', other_instl:='bank']\n",
    "credit_dta[other_instl=='A142', other_instl:='store']\n",
    "credit_dta[other_instl=='A143', other_instl:='None']\n",
    "credit_dta[housing=='A151', housing:='rent']\n",
    "credit_dta[housing=='A152', housing:='own']\n",
    "credit_dta[housing=='A153', housing:='free']\n",
    "credit_dta[job_cat=='A171', job_cat:='unemployed']\n",
    "credit_dta[job_cat=='A172', job_cat:='unskilled']\n",
    "credit_dta[job_cat=='A173', job_cat:='skilled']\n",
    "credit_dta[job_cat=='A174', job_cat:='management']\n",
    "\n",
    "cat_features <- c('chk_acct', 'credit_hist', 'purpose', 'sav_acct', 'employ_since', 'sex_marriage', 'debtor_guarantor',\n",
    "                  'property', 'other_instl', 'housing', 'job_cat')\n",
    "\n",
    "df <- as.data.frame(credit_dta)\n",
    "df[cat_features] <- lapply(df[cat_features] , factor)"
   ]
  },
  {
   "cell_type": "markdown",
   "metadata": {},
   "source": [
    "## 1.2 Fitting Logistic Regression Data\n",
    "\n",
    "Most signs of the coefficients are making sense - having no checking accounts and saving decreases one's credibility, etc. In my opinion, it makes economic sense to include all predictors in the model. Some factor variables, say, `employed_since` at `unemployed` and `job_cat` at `unemployed` seem to be confounding. We can use `glmnet` to fit a Lasso if needed. "
   ]
  },
  {
   "cell_type": "code",
   "execution_count": 364,
   "metadata": {
    "ExecuteTime": {
     "end_time": "2021-03-11T07:26:17.846621Z",
     "start_time": "2021-03-11T07:26:13.017Z"
    }
   },
   "outputs": [
    {
     "name": "stderr",
     "output_type": "stream",
     "text": [
      "Waiting for profiling to be done...\n",
      "\n"
     ]
    },
    {
     "data": {
      "text/plain": [
       "\n",
       "\n",
       "|Variable                 |Beta (SE)    |OR (95% CI)        |P      |\n",
       "|:------------------------|:------------|:------------------|:------|\n",
       "|Intercept                |-2.77 (1.35) |-                  |0.04   |\n",
       "|chk_acct                 |             |                   |       |\n",
       "|\\ \\ \\ <200 (ref)         |-            |-                  |-      |\n",
       "|\\ \\ \\ >=200              |-0.59 (0.37) |0.55 (0.26, 1.13)  |0.11   |\n",
       "|\\ \\ \\ Neg                |0.37 (0.22)  |1.45 (0.95, 2.23)  |0.09   |\n",
       "|\\ \\ \\ None               |-1.34 (0.23) |0.26 (0.17, 0.41)  |<0.001 |\n",
       "|credit_dur               |0.03 (0.01)  |1.03 (1.01, 1.05)  |0.003  |\n",
       "|credit_hist              |             |                   |       |\n",
       "|\\ \\ \\ all_duly (ref)     |-            |-                  |-      |\n",
       "|\\ \\ \\ bank_duly          |0.14 (0.55)  |1.15 (0.39, 3.39)  |0.79   |\n",
       "|\\ \\ \\ critical           |-1.44 (0.44) |0.24 (0.10, 0.56)  |0.001  |\n",
       "|\\ \\ \\ delays             |-0.85 (0.47) |0.43 (0.17, 1.06)  |0.07   |\n",
       "|\\ \\ \\ till_now           |-0.59 (0.43) |0.56 (0.24, 1.28)  |0.17   |\n",
       "|purpose                  |             |                   |       |\n",
       "|\\ \\ \\ A410 (ref)         |-            |-                  |-      |\n",
       "|\\ \\ \\ appliances         |0.97 (1.08)  |2.63 (0.32, 22.70) |0.37   |\n",
       "|\\ \\ \\ business           |0.75 (0.80)  |2.11 (0.46, 11.08) |0.35   |\n",
       "|\\ \\ \\ edu                |1.53 (0.85)  |4.60 (0.92, 26.29) |0.07   |\n",
       "|\\ \\ \\ furn               |0.70 (0.78)  |2.01 (0.45, 10.25) |0.37   |\n",
       "|\\ \\ \\ new_car            |1.49 (0.78)  |4.43 (1.02, 22.38) |0.06   |\n",
       "|\\ \\ \\ radio_TV           |0.60 (0.78)  |1.82 (0.41, 9.30)  |0.45   |\n",
       "|\\ \\ \\ repairs            |1.27 (0.93)  |3.57 (0.60, 23.40) |0.17   |\n",
       "|\\ \\ \\ retraining         |-0.57 (1.43) |0.57 (0.02, 7.71)  |0.69   |\n",
       "|\\ \\ \\ used_car           |-0.18 (0.81) |0.84 (0.18, 4.41)  |0.83   |\n",
       "|credit_amt               |0.00 (0.00)  |1.00 (1.00, 1.00)  |0.004  |\n",
       "|sav_acct                 |             |                   |       |\n",
       "|\\ \\ \\ <100 (ref)         |-            |-                  |-      |\n",
       "|\\ \\ \\ <1000              |-0.38 (0.40) |0.69 (0.30, 1.46)  |0.35   |\n",
       "|\\ \\ \\ <500               |-0.36 (0.29) |0.70 (0.40, 1.22)  |0.21   |\n",
       "|\\ \\ \\ >=1000             |-1.34 (0.52) |0.26 (0.09, 0.69)  |0.01   |\n",
       "|\\ \\ \\ None               |-0.95 (0.26) |0.39 (0.23, 0.64)  |<0.001 |\n",
       "|employ_since             |             |                   |       |\n",
       "|\\ \\ \\ <1 (ref)           |-            |-                  |-      |\n",
       "|\\ \\ \\ <4                 |-0.12 (0.24) |0.89 (0.55, 1.43)  |0.63   |\n",
       "|\\ \\ \\ <7                 |-0.76 (0.31) |0.47 (0.25, 0.84)  |0.01   |\n",
       "|\\ \\ \\ >=7                |-0.21 (0.29) |0.81 (0.45, 1.45)  |0.48   |\n",
       "|\\ \\ \\ unemployed         |0.07 (0.43)  |1.07 (0.46, 2.47)  |0.88   |\n",
       "|instl_rate               |0.33 (0.09)  |1.39 (1.17, 1.66)  |<0.001 |\n",
       "|sex_marriage             |             |                   |       |\n",
       "|\\ \\ \\ F_div (ref)        |-            |-                  |-      |\n",
       "|\\ \\ \\ M_div              |0.28 (0.39)  |1.32 (0.61, 2.81)  |0.48   |\n",
       "|\\ \\ \\ M_married          |-0.09 (0.31) |0.91 (0.49, 1.67)  |0.77   |\n",
       "|\\ \\ \\ M_single           |-0.54 (0.21) |0.58 (0.39, 0.88)  |0.01   |\n",
       "|debtor_guarantor         |             |                   |       |\n",
       "|\\ \\ \\ co-applicant (ref) |-            |-                  |-      |\n",
       "|\\ \\ \\ guarantor          |-1.41 (0.57) |0.24 (0.08, 0.73)  |0.01   |\n",
       "|\\ \\ \\ none               |-0.44 (0.41) |0.65 (0.29, 1.46)  |0.29   |\n",
       "|reside_since             |0.00 (0.09)  |1.00 (0.85, 1.19)  |0.96   |\n",
       "|property                 |             |                   |       |\n",
       "|\\ \\ \\ car (ref)          |-            |-                  |-      |\n",
       "|\\ \\ \\ None               |0.54 (0.40)  |1.71 (0.78, 3.76)  |0.18   |\n",
       "|\\ \\ \\ real_est           |-0.19 (0.24) |0.82 (0.52, 1.31)  |0.41   |\n",
       "|\\ \\ \\ soc_sav            |0.09 (0.23)  |1.09 (0.69, 1.72)  |0.71   |\n",
       "|age                      |-0.01 (0.01) |0.99 (0.97, 1.00)  |0.11   |\n",
       "|other_instl              |             |                   |       |\n",
       "|\\ \\ \\ bank (ref)         |-            |-                  |-      |\n",
       "|\\ \\ \\ None               |-0.65 (0.24) |0.52 (0.33, 0.84)  |0.007  |\n",
       "|\\ \\ \\ store              |-0.12 (0.41) |0.88 (0.39, 1.98)  |0.76   |\n",
       "|housing                  |             |                   |       |\n",
       "|\\ \\ \\ free (ref)         |-            |-                  |-      |\n",
       "|\\ \\ \\ own                |0.24 (0.45)  |1.27 (0.53, 3.09)  |0.59   |\n",
       "|\\ \\ \\ rent               |0.68 (0.48)  |1.98 (0.78, 5.07)  |0.15   |\n",
       "|n_credits                |0.27 (0.19)  |1.31 (0.91, 1.91)  |0.15   |\n",
       "|job_cat                  |             |                   |       |\n",
       "|\\ \\ \\ management (ref)   |-            |-                  |-      |\n",
       "|\\ \\ \\ skilled            |0.08 (0.28)  |1.08 (0.62, 1.89)  |0.79   |\n",
       "|\\ \\ \\ unemployed         |-0.48 (0.66) |0.62 (0.16, 2.22)  |0.47   |\n",
       "|\\ \\ \\ unskilled          |0.06 (0.35)  |1.06 (0.53, 2.11)  |0.87   |\n",
       "|n_liable_ppl             |0.26 (0.25)  |1.30 (0.80, 2.12)  |0.29   |\n",
       "|reg_phone                |-0.30 (0.20) |0.74 (0.50, 1.10)  |0.14   |\n",
       "|foreign                  |1.39 (0.63)  |4.02 (1.30, 15.91) |0.03   |"
      ]
     },
     "metadata": {},
     "output_type": "display_data"
    }
   ],
   "source": [
    "logit_reg <- glm(credibility ~ ., , family = binomial, data = df)\n",
    "\n",
    "library(tab)\n",
    "tabglm(logit_reg) %>% kable()"
   ]
  },
  {
   "cell_type": "code",
   "execution_count": 372,
   "metadata": {
    "ExecuteTime": {
     "end_time": "2021-03-11T07:31:21.619537Z",
     "start_time": "2021-03-11T07:31:20.584Z"
    }
   },
   "outputs": [
    {
     "data": {
      "image/png": "[encoded data removed]",
      "text/plain": [
       "plot without title"
      ]
     },
     "metadata": {
      "image/png": {
       "height": 698.7712,
       "width": 698.7712
      }
     },
     "output_type": "display_data"
    }
   ],
   "source": [
    "library(glmnet)\n",
    "\n",
    "X_mat <- model.matrix(credibility ~ ., df)\n",
    "y_mat <- df$credibility %>% as.matrix\n",
    "\n",
    "lasso.fit <- glmnet(x=X_mat, y=y_mat, family = \"binomial\", alpha = 1)\n",
    "cv.lasso <- cv.glmnet(x=X_mat, y=y_mat, family = \"binomial\", alpha = 1, nfolds = 10)\n",
    "plot(cv.lasso)"
   ]
  },
  {
   "cell_type": "code",
   "execution_count": 375,
   "metadata": {
    "ExecuteTime": {
     "end_time": "2021-03-11T07:32:30.472165Z",
     "start_time": "2021-03-11T07:32:30.448Z"
    }
   },
   "outputs": [
    {
     "data": {
      "text/plain": [
       "50 x 2 sparse Matrix of class \"dgCMatrix\"\n",
       "                                      1             2\n",
       "(Intercept)               -1.113152e+00 -1.898256e+00\n",
       "(Intercept)                .             .           \n",
       "chk_acct>=200             -1.201702e-01 -3.733422e-01\n",
       "chk_acctNeg                4.087132e-01  4.278162e-01\n",
       "chk_acctNone              -1.058516e+00 -1.189823e+00\n",
       "credit_dur                 2.480824e-02  2.596471e-02\n",
       "credit_histbank_duly       3.124431e-01  5.012222e-01\n",
       "credit_histcritical       -4.400419e-01 -6.573500e-01\n",
       "credit_histdelays          .            -6.423887e-02\n",
       "credit_histtill_now        .             .           \n",
       "purposeappliances          .             .           \n",
       "purposebusiness            .             .           \n",
       "purposeedu                 2.501578e-01  5.464474e-01\n",
       "purposefurn                .             .           \n",
       "purposenew_car             3.340321e-01  5.642136e-01\n",
       "purposeradio_TV           -7.639589e-02 -1.370470e-01\n",
       "purposerepairs             .             2.838235e-01\n",
       "purposeretraining          .            -4.565852e-01\n",
       "purposeused_car           -4.335042e-01 -7.081618e-01\n",
       "credit_amt                 4.004803e-05  9.024834e-05\n",
       "sav_acct<1000              .            -2.199415e-01\n",
       "sav_acct<500               .            -5.305034e-02\n",
       "sav_acct>=1000            -2.753459e-01 -8.262914e-01\n",
       "sav_acctNone              -4.205749e-01 -7.169168e-01\n",
       "employ_since<4             .             .           \n",
       "employ_since<7            -2.595625e-01 -5.017641e-01\n",
       "employ_since>=7            .            -3.729183e-02\n",
       "employ_sinceunemployed     .             .           \n",
       "instl_rate                 9.989187e-02  2.248326e-01\n",
       "sex_marriageM_div          .             9.189224e-02\n",
       "sex_marriageM_married      .             .           \n",
       "sex_marriageM_single      -1.863554e-01 -3.675684e-01\n",
       "debtor_guarantorguarantor -3.437321e-01 -7.031821e-01\n",
       "debtor_guarantornone       .             .           \n",
       "reside_since               .             .           \n",
       "propertyNone               1.858553e-02  2.375750e-01\n",
       "propertyreal_est          -9.692564e-02 -1.702482e-01\n",
       "propertysoc_sav            .             .           \n",
       "age                       -4.753905e-03 -1.021715e-02\n",
       "other_instlNone           -2.764295e-01 -4.682144e-01\n",
       "other_instlstore           .             .           \n",
       "housingown                -1.476364e-01  .           \n",
       "housingrent                4.645051e-02  3.451496e-01\n",
       "n_credits                  .             1.213108e-01\n",
       "job_catskilled             .             .           \n",
       "job_catunemployed          .             .           \n",
       "job_catunskilled           .             .           \n",
       "n_liable_ppl               .             3.955927e-02\n",
       "reg_phone                  .            -1.748217e-01\n",
       "foreign                    3.363695e-01  8.578543e-01"
      ]
     },
     "metadata": {},
     "output_type": "display_data"
    }
   ],
   "source": [
    "coef(lasso.fit, s=c(cv.lasso$lambda.1se, cv.lasso$lambda.min))"
   ]
  },
  {
   "cell_type": "markdown",
   "metadata": {
    "ExecuteTime": {
     "end_time": "2021-03-11T06:22:29.012078Z",
     "start_time": "2021-03-11T06:22:28.992Z"
    }
   },
   "source": [
    "## 1.3 Select Threshold\n",
    "\n",
    "We make use of the ROC cost code found in [this github repo](https://github.com/joyofdata/joyofdata-articles/tree/master/roc-auc) found in this [post](https://www.r-bloggers.com/2015/06/illustrated-guide-to-roc-and-auc/). With the ad hoc cost function, we find that a threshold around 0.8 is optimal."
   ]
  },
  {
   "cell_type": "code",
   "execution_count": 355,
   "metadata": {
    "ExecuteTime": {
     "end_time": "2021-03-11T06:58:03.818818Z",
     "start_time": "2021-03-11T06:58:03.753Z"
    }
   },
   "outputs": [
    {
     "data": {
      "text/html": [
       "<table class=\"dataframe\">\n",
       "<caption>A data.table: 10 × 4</caption>\n",
       "<thead>\n",
       "\t<tr><th scope=col>threshold</th><th scope=col>tpr</th><th scope=col>fpr</th><th scope=col>cost</th></tr>\n",
       "\t<tr><th scope=col>&lt;dbl&gt;</th><th scope=col>&lt;dbl&gt;</th><th scope=col>&lt;dbl&gt;</th><th scope=col>&lt;dbl&gt;</th></tr>\n",
       "</thead>\n",
       "<tbody>\n",
       "\t<tr><td>0.8080808</td><td>0.14333333</td><td>0.005714286</td><td>277</td></tr>\n",
       "\t<tr><td>0.7979798</td><td>0.14666667</td><td>0.007142857</td><td>281</td></tr>\n",
       "\t<tr><td>0.8181818</td><td>0.11666667</td><td>0.005714286</td><td>285</td></tr>\n",
       "\t<tr><td>0.8282828</td><td>0.11000000</td><td>0.005714286</td><td>287</td></tr>\n",
       "\t<tr><td>0.7878788</td><td>0.15333333</td><td>0.010000000</td><td>289</td></tr>\n",
       "\t<tr><td>0.8383838</td><td>0.10333333</td><td>0.005714286</td><td>289</td></tr>\n",
       "\t<tr><td>0.8484848</td><td>0.08666667</td><td>0.004285714</td><td>289</td></tr>\n",
       "\t<tr><td>0.8585859</td><td>0.07333333</td><td>0.004285714</td><td>293</td></tr>\n",
       "\t<tr><td>0.8787879</td><td>0.05333333</td><td>0.002857143</td><td>294</td></tr>\n",
       "\t<tr><td>0.8989899</td><td>0.03666667</td><td>0.001428571</td><td>294</td></tr>\n",
       "</tbody>\n",
       "</table>\n"
      ],
      "text/latex": [
       "A data.table: 10 × 4\n",
       "\\begin{tabular}{llll}\n",
       " threshold & tpr & fpr & cost\\\\\n",
       " <dbl> & <dbl> & <dbl> & <dbl>\\\\\n",
       "\\hline\n",
       "\t 0.8080808 & 0.14333333 & 0.005714286 & 277\\\\\n",
       "\t 0.7979798 & 0.14666667 & 0.007142857 & 281\\\\\n",
       "\t 0.8181818 & 0.11666667 & 0.005714286 & 285\\\\\n",
       "\t 0.8282828 & 0.11000000 & 0.005714286 & 287\\\\\n",
       "\t 0.7878788 & 0.15333333 & 0.010000000 & 289\\\\\n",
       "\t 0.8383838 & 0.10333333 & 0.005714286 & 289\\\\\n",
       "\t 0.8484848 & 0.08666667 & 0.004285714 & 289\\\\\n",
       "\t 0.8585859 & 0.07333333 & 0.004285714 & 293\\\\\n",
       "\t 0.8787879 & 0.05333333 & 0.002857143 & 294\\\\\n",
       "\t 0.8989899 & 0.03666667 & 0.001428571 & 294\\\\\n",
       "\\end{tabular}\n"
      ],
      "text/markdown": [
       "\n",
       "A data.table: 10 × 4\n",
       "\n",
       "| threshold &lt;dbl&gt; | tpr &lt;dbl&gt; | fpr &lt;dbl&gt; | cost &lt;dbl&gt; |\n",
       "|---|---|---|---|\n",
       "| 0.8080808 | 0.14333333 | 0.005714286 | 277 |\n",
       "| 0.7979798 | 0.14666667 | 0.007142857 | 281 |\n",
       "| 0.8181818 | 0.11666667 | 0.005714286 | 285 |\n",
       "| 0.8282828 | 0.11000000 | 0.005714286 | 287 |\n",
       "| 0.7878788 | 0.15333333 | 0.010000000 | 289 |\n",
       "| 0.8383838 | 0.10333333 | 0.005714286 | 289 |\n",
       "| 0.8484848 | 0.08666667 | 0.004285714 | 289 |\n",
       "| 0.8585859 | 0.07333333 | 0.004285714 | 293 |\n",
       "| 0.8787879 | 0.05333333 | 0.002857143 | 294 |\n",
       "| 0.8989899 | 0.03666667 | 0.001428571 | 294 |\n",
       "\n"
      ],
      "text/plain": [
       "   threshold tpr        fpr         cost\n",
       "1  0.8080808 0.14333333 0.005714286 277 \n",
       "2  0.7979798 0.14666667 0.007142857 281 \n",
       "3  0.8181818 0.11666667 0.005714286 285 \n",
       "4  0.8282828 0.11000000 0.005714286 287 \n",
       "5  0.7878788 0.15333333 0.010000000 289 \n",
       "6  0.8383838 0.10333333 0.005714286 289 \n",
       "7  0.8484848 0.08666667 0.004285714 289 \n",
       "8  0.8585859 0.07333333 0.004285714 293 \n",
       "9  0.8787879 0.05333333 0.002857143 294 \n",
       "10 0.8989899 0.03666667 0.001428571 294 "
      ]
     },
     "metadata": {},
     "output_type": "display_data"
    }
   ],
   "source": [
    "calculate_roc <- function(df, cost_of_fp, cost_of_fn, n=100) {\n",
    "  tpr <- function(df, threshold) {\n",
    "    sum(df$pred >= threshold & df$credibility == 1) / sum(df$credibility == 1)\n",
    "  }\n",
    "  \n",
    "  fpr <- function(df, threshold) {\n",
    "    sum(df$pred >= threshold & df$credibility == 0) / sum(df$credibility == 0)\n",
    "  }\n",
    "  \n",
    "  cost <- function(df, threshold, cost_of_fp, cost_of_fn) {\n",
    "    sum(df$pred >= threshold & df$credibility == 0) * cost_of_fp + \n",
    "      sum(df$pred < threshold & df$credibility == 1) * cost_of_fn\n",
    "  }\n",
    "  \n",
    "  roc <- data.frame(threshold = seq(0,1,length.out=n), tpr=NA, fpr=NA)\n",
    "  roc$tpr <- sapply(roc$threshold, function(th) tpr(df, th))\n",
    "  roc$fpr <- sapply(roc$threshold, function(th) fpr(df, th))\n",
    "  roc$cost <- sapply(roc$threshold, function(th) cost(df, th, cost_of_fp, cost_of_fn))\n",
    "  \n",
    "  return(roc)\n",
    "}\n",
    "\n",
    "plot_roc <- function(roc, threshold, cost_of_fp, cost_of_fn) {\n",
    "  library(gridExtra)\n",
    "  \n",
    "  norm_vec <- function(v) (v - min(v))/diff(range(v))\n",
    "  \n",
    "  idx_threshold = which.min(abs(roc$threshold-threshold))\n",
    "  \n",
    "  col_ramp <- colorRampPalette(c(\"green\",\"orange\",\"red\",\"black\"))(100)\n",
    "  col_by_cost <- col_ramp[ceiling(norm_vec(roc$cost)*99)+1]\n",
    "  p_cost <- ggplot(roc, aes(threshold, cost)) +\n",
    "    geom_line(color=rgb(0,0,1,alpha=0.3)) +\n",
    "    geom_point(color=col_by_cost, size=4, alpha=0.5) +\n",
    "    labs(title = sprintf(\"cost function\")) +\n",
    "    geom_vline(xintercept=threshold, alpha=0.5, linetype=\"dashed\")\n",
    "  \n",
    "  return(p_cost)\n",
    "}\n",
    "\n",
    "\n",
    "df$pred <- predict(logit_reg, type=\"response\")\n",
    "roc <- calculate_roc(df, 5, 1, 100)\n",
    "roc %>% setDT\n",
    "roc[order(cost)][1:10]"
   ]
  },
  {
   "cell_type": "code",
   "execution_count": 354,
   "metadata": {
    "ExecuteTime": {
     "end_time": "2021-03-11T06:57:06.445215Z",
     "start_time": "2021-03-11T06:57:06.201Z"
    },
    "scrolled": false
   },
   "outputs": [
    {
     "data": {
      "image/png": "[encoded data removed]",
      "text/plain": [
       "plot without title"
      ]
     },
     "metadata": {
      "image/png": {
       "height": 698.7712,
       "width": 698.7712
      }
     },
     "output_type": "display_data"
    }
   ],
   "source": [
    "plot_roc(roc, roc[which.min(cost), threshold], 5, 1)"
   ]
  },
  {
   "cell_type": "code",
   "execution_count": null,
   "metadata": {},
   "outputs": [],
   "source": []
  }
 ],
 "metadata": {
  "kernelspec": {
   "display_name": "R",
   "language": "R",
   "name": "ir"
  },
  "language_info": {
   "codemirror_mode": "r",
   "file_extension": ".r",
   "mimetype": "text/x-r-source",
   "name": "R",
   "pygments_lexer": "r",
   "version": "4.0.4"
  },
  "latex_envs": {
   "LaTeX_envs_menu_present": true,
   "autoclose": false,
   "autocomplete": true,
   "bibliofile": "biblio.bib",
   "cite_by": "apalike",
   "current_citInitial": 1,
   "eqLabelWithNumbers": true,
   "eqNumInitial": 1,
   "hotkeys": {
    "equation": "Ctrl-E",
    "itemize": "Ctrl-I"
   },
   "labels_anchors": false,
   "latex_user_defs": false,
   "report_style_numbering": false,
   "user_envs_cfg": false
  }
 },
 "nbformat": 4,
 "nbformat_minor": 2
}
